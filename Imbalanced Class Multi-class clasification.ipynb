{
 "cells": [
  {
   "cell_type": "markdown",
   "metadata": {},
   "source": [
    "**Importing libraries and visualizing data**"
   ]
  },
  {
   "cell_type": "code",
   "execution_count": 1,
   "metadata": {
    "scrolled": true
   },
   "outputs": [
    {
     "name": "stdout",
     "output_type": "stream",
     "text": [
      "0.9.0\n"
     ]
    },
    {
     "data": {
      "text/html": [
       "<div>\n",
       "<style scoped>\n",
       "    .dataframe tbody tr th:only-of-type {\n",
       "        vertical-align: middle;\n",
       "    }\n",
       "\n",
       "    .dataframe tbody tr th {\n",
       "        vertical-align: top;\n",
       "    }\n",
       "\n",
       "    .dataframe thead th {\n",
       "        text-align: right;\n",
       "    }\n",
       "</style>\n",
       "<table border=\"1\" class=\"dataframe\">\n",
       "  <thead>\n",
       "    <tr style=\"text-align: right;\">\n",
       "      <th></th>\n",
       "      <th>Diagnostico</th>\n",
       "      <th>Genero</th>\n",
       "      <th>Edad</th>\n",
       "      <th>Escolaridad</th>\n",
       "      <th>IL_2</th>\n",
       "      <th>IL_6</th>\n",
       "      <th>IL_10</th>\n",
       "      <th>TNFa</th>\n",
       "      <th>SAP</th>\n",
       "      <th>CRP</th>\n",
       "      <th>...</th>\n",
       "      <th>T_ADLQ_I_Basic</th>\n",
       "      <th>T_ADLQ_I_Instrumental</th>\n",
       "      <th>T_ADLQ_I_Advanced</th>\n",
       "      <th>MiniSea_MiniSea_Total_FauxPas</th>\n",
       "      <th>MiniSea_MiniSea_Total_EkmanFaces</th>\n",
       "      <th>MiniSea_minisea_total</th>\n",
       "      <th>RCF_Time</th>\n",
       "      <th>RCF_Total_Score</th>\n",
       "      <th>TMT_A_Time</th>\n",
       "      <th>TMT_B_Time</th>\n",
       "    </tr>\n",
       "  </thead>\n",
       "  <tbody>\n",
       "    <tr>\n",
       "      <th>0</th>\n",
       "      <td>0.0</td>\n",
       "      <td>M</td>\n",
       "      <td>78.0</td>\n",
       "      <td>12.0</td>\n",
       "      <td>0.000</td>\n",
       "      <td>0.245</td>\n",
       "      <td>5.29</td>\n",
       "      <td>14.05</td>\n",
       "      <td>4154.0</td>\n",
       "      <td>384.0</td>\n",
       "      <td>...</td>\n",
       "      <td>0.0</td>\n",
       "      <td>0.158730</td>\n",
       "      <td>0.750000</td>\n",
       "      <td>11.250</td>\n",
       "      <td>12.000</td>\n",
       "      <td>23.250</td>\n",
       "      <td>176.0</td>\n",
       "      <td>31.0</td>\n",
       "      <td>75.0</td>\n",
       "      <td>175.0</td>\n",
       "    </tr>\n",
       "    <tr>\n",
       "      <th>1</th>\n",
       "      <td>0.0</td>\n",
       "      <td>M</td>\n",
       "      <td>73.0</td>\n",
       "      <td>15.0</td>\n",
       "      <td>0.065</td>\n",
       "      <td>3.120</td>\n",
       "      <td>4.38</td>\n",
       "      <td>10.84</td>\n",
       "      <td>8826.0</td>\n",
       "      <td>8332.0</td>\n",
       "      <td>...</td>\n",
       "      <td>NaN</td>\n",
       "      <td>NaN</td>\n",
       "      <td>NaN</td>\n",
       "      <td>11.625</td>\n",
       "      <td>10.714</td>\n",
       "      <td>22.339</td>\n",
       "      <td>179.0</td>\n",
       "      <td>29.0</td>\n",
       "      <td>70.0</td>\n",
       "      <td>147.0</td>\n",
       "    </tr>\n",
       "    <tr>\n",
       "      <th>2</th>\n",
       "      <td>0.0</td>\n",
       "      <td>M</td>\n",
       "      <td>73.0</td>\n",
       "      <td>12.0</td>\n",
       "      <td>0.000</td>\n",
       "      <td>0.610</td>\n",
       "      <td>62.60</td>\n",
       "      <td>20.35</td>\n",
       "      <td>4700.0</td>\n",
       "      <td>19096.0</td>\n",
       "      <td>...</td>\n",
       "      <td>NaN</td>\n",
       "      <td>NaN</td>\n",
       "      <td>NaN</td>\n",
       "      <td>8.625</td>\n",
       "      <td>10.714</td>\n",
       "      <td>19.339</td>\n",
       "      <td>91.0</td>\n",
       "      <td>29.0</td>\n",
       "      <td>63.0</td>\n",
       "      <td>141.0</td>\n",
       "    </tr>\n",
       "    <tr>\n",
       "      <th>3</th>\n",
       "      <td>0.0</td>\n",
       "      <td>F</td>\n",
       "      <td>71.0</td>\n",
       "      <td>12.0</td>\n",
       "      <td>0.195</td>\n",
       "      <td>1.615</td>\n",
       "      <td>3.23</td>\n",
       "      <td>10.25</td>\n",
       "      <td>7558.0</td>\n",
       "      <td>21330.0</td>\n",
       "      <td>...</td>\n",
       "      <td>0.0</td>\n",
       "      <td>0.192982</td>\n",
       "      <td>0.333333</td>\n",
       "      <td>8.625</td>\n",
       "      <td>7.714</td>\n",
       "      <td>16.339</td>\n",
       "      <td>351.0</td>\n",
       "      <td>35.0</td>\n",
       "      <td>35.0</td>\n",
       "      <td>91.0</td>\n",
       "    </tr>\n",
       "    <tr>\n",
       "      <th>4</th>\n",
       "      <td>0.0</td>\n",
       "      <td>M</td>\n",
       "      <td>74.0</td>\n",
       "      <td>10.0</td>\n",
       "      <td>0.000</td>\n",
       "      <td>0.300</td>\n",
       "      <td>1.81</td>\n",
       "      <td>7.63</td>\n",
       "      <td>6508.0</td>\n",
       "      <td>436.0</td>\n",
       "      <td>...</td>\n",
       "      <td>0.0</td>\n",
       "      <td>0.092593</td>\n",
       "      <td>0.466667</td>\n",
       "      <td>12.000</td>\n",
       "      <td>12.429</td>\n",
       "      <td>24.429</td>\n",
       "      <td>125.0</td>\n",
       "      <td>32.0</td>\n",
       "      <td>72.0</td>\n",
       "      <td>128.0</td>\n",
       "    </tr>\n",
       "  </tbody>\n",
       "</table>\n",
       "<p>5 rows × 72 columns</p>\n",
       "</div>"
      ],
      "text/plain": [
       "   Diagnostico Genero  Edad  Escolaridad   IL_2   IL_6  IL_10   TNFa     SAP  \\\n",
       "0          0.0      M  78.0         12.0  0.000  0.245   5.29  14.05  4154.0   \n",
       "1          0.0      M  73.0         15.0  0.065  3.120   4.38  10.84  8826.0   \n",
       "2          0.0      M  73.0         12.0  0.000  0.610  62.60  20.35  4700.0   \n",
       "3          0.0      F  71.0         12.0  0.195  1.615   3.23  10.25  7558.0   \n",
       "4          0.0      M  74.0         10.0  0.000  0.300   1.81   7.63  6508.0   \n",
       "\n",
       "       CRP  ... T_ADLQ_I_Basic  T_ADLQ_I_Instrumental T_ADLQ_I_Advanced  \\\n",
       "0    384.0  ...            0.0               0.158730          0.750000   \n",
       "1   8332.0  ...            NaN                    NaN               NaN   \n",
       "2  19096.0  ...            NaN                    NaN               NaN   \n",
       "3  21330.0  ...            0.0               0.192982          0.333333   \n",
       "4    436.0  ...            0.0               0.092593          0.466667   \n",
       "\n",
       "  MiniSea_MiniSea_Total_FauxPas MiniSea_MiniSea_Total_EkmanFaces  \\\n",
       "0                        11.250                           12.000   \n",
       "1                        11.625                           10.714   \n",
       "2                         8.625                           10.714   \n",
       "3                         8.625                            7.714   \n",
       "4                        12.000                           12.429   \n",
       "\n",
       "   MiniSea_minisea_total  RCF_Time  RCF_Total_Score  TMT_A_Time  TMT_B_Time  \n",
       "0                 23.250     176.0             31.0        75.0       175.0  \n",
       "1                 22.339     179.0             29.0        70.0       147.0  \n",
       "2                 19.339      91.0             29.0        63.0       141.0  \n",
       "3                 16.339     351.0             35.0        35.0        91.0  \n",
       "4                 24.429     125.0             32.0        72.0       128.0  \n",
       "\n",
       "[5 rows x 72 columns]"
      ]
     },
     "execution_count": 1,
     "metadata": {},
     "output_type": "execute_result"
    }
   ],
   "source": [
    "import numpy as np\n",
    "import pandas as pd\n",
    "import matplotlib.pyplot as plt\n",
    "from sklearn.model_selection import train_test_split\n",
    "from sklearn.neighbors import KNeighborsClassifier\n",
    "from sklearn.datasets import load_digits\n",
    "from sklearn.metrics import plot_confusion_matrix\n",
    "import imblearn\n",
    "print(imblearn.__version__)\n",
    "from pandas import read_csv\n",
    "from collections import Counter\n",
    "from matplotlib import pyplot\n",
    "from sklearn.preprocessing import LabelEncoder\n",
    "from sklearn.ensemble import RandomForestClassifier\n",
    "from sklearn.model_selection import RepeatedStratifiedKFold\n",
    "from sklearn.model_selection import cross_val_score\n",
    "from numpy import mean\n",
    "from numpy import std\n",
    "\n",
    "df = pd.read_excel('Clinical Data.xlsx', sheet_name= \"DATACOMPLETA\") \n",
    "df.head(5) "
   ]
  },
  {
   "cell_type": "markdown",
   "metadata": {},
   "source": [
    "**Saving and displaying rows with NAN's.**"
   ]
  },
  {
   "cell_type": "code",
   "execution_count": 2,
   "metadata": {},
   "outputs": [
    {
     "name": "stdout",
     "output_type": "stream",
     "text": [
      "[1, 2, 3, 4, 5, 6, 7, 8, 9, 10, 12, 14, 20, 21, 24, 27, 42, 44, 51, 57, 61, 62, 63, 66, 82, 87, 88, 94, 98, 99, 100, 103, 110, 112, 117, 119, 120, 121, 123, 124, 128, 129, 130, 133, 134, 135, 141, 142, 143, 164, 169, 172, 177, 180, 183, 184, 186, 197, 198, 201, 203, 204, 205, 206, 207, 209, 210, 213, 214, 216, 217]\n"
     ]
    }
   ],
   "source": [
    "rows_with_nan = [index for index, row in df.iterrows() if row.isnull().any()]\n",
    "print(rows_with_nan)"
   ]
  },
  {
   "cell_type": "markdown",
   "metadata": {},
   "source": [
    "**Dropping NAN values**"
   ]
  },
  {
   "cell_type": "code",
   "execution_count": 3,
   "metadata": {},
   "outputs": [
    {
     "data": {
      "text/plain": [
       "147"
      ]
     },
     "execution_count": 3,
     "metadata": {},
     "output_type": "execute_result"
    }
   ],
   "source": [
    "df= df.dropna()\n",
    "len(df)"
   ]
  },
  {
   "cell_type": "markdown",
   "metadata": {},
   "source": [
    "**Encoding labels that have a \"string\" structure:**"
   ]
  },
  {
   "cell_type": "code",
   "execution_count": 4,
   "metadata": {},
   "outputs": [
    {
     "data": {
      "text/html": [
       "<div>\n",
       "<style scoped>\n",
       "    .dataframe tbody tr th:only-of-type {\n",
       "        vertical-align: middle;\n",
       "    }\n",
       "\n",
       "    .dataframe tbody tr th {\n",
       "        vertical-align: top;\n",
       "    }\n",
       "\n",
       "    .dataframe thead th {\n",
       "        text-align: right;\n",
       "    }\n",
       "</style>\n",
       "<table border=\"1\" class=\"dataframe\">\n",
       "  <thead>\n",
       "    <tr style=\"text-align: right;\">\n",
       "      <th></th>\n",
       "      <th>Diagnostico</th>\n",
       "      <th>Genero</th>\n",
       "      <th>Edad</th>\n",
       "      <th>Escolaridad</th>\n",
       "      <th>IL_2</th>\n",
       "      <th>IL_6</th>\n",
       "      <th>IL_10</th>\n",
       "      <th>TNFa</th>\n",
       "      <th>SAP</th>\n",
       "      <th>CRP</th>\n",
       "      <th>...</th>\n",
       "      <th>T_ADLQ_I_Basic</th>\n",
       "      <th>T_ADLQ_I_Instrumental</th>\n",
       "      <th>T_ADLQ_I_Advanced</th>\n",
       "      <th>MiniSea_MiniSea_Total_FauxPas</th>\n",
       "      <th>MiniSea_MiniSea_Total_EkmanFaces</th>\n",
       "      <th>MiniSea_minisea_total</th>\n",
       "      <th>RCF_Time</th>\n",
       "      <th>RCF_Total_Score</th>\n",
       "      <th>TMT_A_Time</th>\n",
       "      <th>TMT_B_Time</th>\n",
       "    </tr>\n",
       "  </thead>\n",
       "  <tbody>\n",
       "    <tr>\n",
       "      <th>0</th>\n",
       "      <td>0.0</td>\n",
       "      <td>1</td>\n",
       "      <td>78.0</td>\n",
       "      <td>12.0</td>\n",
       "      <td>0.00000</td>\n",
       "      <td>0.24500</td>\n",
       "      <td>5.2900</td>\n",
       "      <td>14.0500</td>\n",
       "      <td>4154.0</td>\n",
       "      <td>384.0</td>\n",
       "      <td>...</td>\n",
       "      <td>0.0</td>\n",
       "      <td>0.158730</td>\n",
       "      <td>0.750000</td>\n",
       "      <td>11.250</td>\n",
       "      <td>12.000</td>\n",
       "      <td>23.250</td>\n",
       "      <td>176.0</td>\n",
       "      <td>31.0</td>\n",
       "      <td>75.0</td>\n",
       "      <td>175.0</td>\n",
       "    </tr>\n",
       "    <tr>\n",
       "      <th>11</th>\n",
       "      <td>0.0</td>\n",
       "      <td>1</td>\n",
       "      <td>76.0</td>\n",
       "      <td>3.0</td>\n",
       "      <td>0.22455</td>\n",
       "      <td>0.00000</td>\n",
       "      <td>2.4318</td>\n",
       "      <td>3.6735</td>\n",
       "      <td>7742.0</td>\n",
       "      <td>1874.0</td>\n",
       "      <td>...</td>\n",
       "      <td>0.0</td>\n",
       "      <td>0.174603</td>\n",
       "      <td>0.333333</td>\n",
       "      <td>7.875</td>\n",
       "      <td>12.000</td>\n",
       "      <td>19.875</td>\n",
       "      <td>332.0</td>\n",
       "      <td>34.0</td>\n",
       "      <td>142.0</td>\n",
       "      <td>155.0</td>\n",
       "    </tr>\n",
       "    <tr>\n",
       "      <th>13</th>\n",
       "      <td>0.0</td>\n",
       "      <td>0</td>\n",
       "      <td>72.0</td>\n",
       "      <td>8.0</td>\n",
       "      <td>0.65110</td>\n",
       "      <td>0.00175</td>\n",
       "      <td>63.5570</td>\n",
       "      <td>8.2975</td>\n",
       "      <td>6024.0</td>\n",
       "      <td>16338.0</td>\n",
       "      <td>...</td>\n",
       "      <td>0.0</td>\n",
       "      <td>0.017544</td>\n",
       "      <td>0.000000</td>\n",
       "      <td>12.000</td>\n",
       "      <td>10.714</td>\n",
       "      <td>22.714</td>\n",
       "      <td>177.0</td>\n",
       "      <td>31.0</td>\n",
       "      <td>73.0</td>\n",
       "      <td>184.0</td>\n",
       "    </tr>\n",
       "    <tr>\n",
       "      <th>15</th>\n",
       "      <td>0.0</td>\n",
       "      <td>0</td>\n",
       "      <td>75.0</td>\n",
       "      <td>12.0</td>\n",
       "      <td>0.09315</td>\n",
       "      <td>1.78310</td>\n",
       "      <td>2.7463</td>\n",
       "      <td>10.2875</td>\n",
       "      <td>8774.0</td>\n",
       "      <td>45218.0</td>\n",
       "      <td>...</td>\n",
       "      <td>0.0</td>\n",
       "      <td>0.174603</td>\n",
       "      <td>0.416667</td>\n",
       "      <td>10.875</td>\n",
       "      <td>10.286</td>\n",
       "      <td>21.161</td>\n",
       "      <td>223.0</td>\n",
       "      <td>15.5</td>\n",
       "      <td>100.0</td>\n",
       "      <td>300.0</td>\n",
       "    </tr>\n",
       "    <tr>\n",
       "      <th>16</th>\n",
       "      <td>0.0</td>\n",
       "      <td>0</td>\n",
       "      <td>76.0</td>\n",
       "      <td>17.0</td>\n",
       "      <td>0.27530</td>\n",
       "      <td>0.00000</td>\n",
       "      <td>1.5492</td>\n",
       "      <td>7.4602</td>\n",
       "      <td>7092.0</td>\n",
       "      <td>2380.0</td>\n",
       "      <td>...</td>\n",
       "      <td>0.0</td>\n",
       "      <td>0.079365</td>\n",
       "      <td>0.200000</td>\n",
       "      <td>14.625</td>\n",
       "      <td>13.286</td>\n",
       "      <td>27.911</td>\n",
       "      <td>357.0</td>\n",
       "      <td>18.5</td>\n",
       "      <td>67.0</td>\n",
       "      <td>93.0</td>\n",
       "    </tr>\n",
       "  </tbody>\n",
       "</table>\n",
       "<p>5 rows × 72 columns</p>\n",
       "</div>"
      ],
      "text/plain": [
       "    Diagnostico  Genero  Edad  Escolaridad     IL_2     IL_6    IL_10  \\\n",
       "0           0.0       1  78.0         12.0  0.00000  0.24500   5.2900   \n",
       "11          0.0       1  76.0          3.0  0.22455  0.00000   2.4318   \n",
       "13          0.0       0  72.0          8.0  0.65110  0.00175  63.5570   \n",
       "15          0.0       0  75.0         12.0  0.09315  1.78310   2.7463   \n",
       "16          0.0       0  76.0         17.0  0.27530  0.00000   1.5492   \n",
       "\n",
       "       TNFa     SAP      CRP  ...  T_ADLQ_I_Basic  T_ADLQ_I_Instrumental  \\\n",
       "0   14.0500  4154.0    384.0  ...             0.0               0.158730   \n",
       "11   3.6735  7742.0   1874.0  ...             0.0               0.174603   \n",
       "13   8.2975  6024.0  16338.0  ...             0.0               0.017544   \n",
       "15  10.2875  8774.0  45218.0  ...             0.0               0.174603   \n",
       "16   7.4602  7092.0   2380.0  ...             0.0               0.079365   \n",
       "\n",
       "    T_ADLQ_I_Advanced  MiniSea_MiniSea_Total_FauxPas  \\\n",
       "0            0.750000                         11.250   \n",
       "11           0.333333                          7.875   \n",
       "13           0.000000                         12.000   \n",
       "15           0.416667                         10.875   \n",
       "16           0.200000                         14.625   \n",
       "\n",
       "    MiniSea_MiniSea_Total_EkmanFaces  MiniSea_minisea_total  RCF_Time  \\\n",
       "0                             12.000                 23.250     176.0   \n",
       "11                            12.000                 19.875     332.0   \n",
       "13                            10.714                 22.714     177.0   \n",
       "15                            10.286                 21.161     223.0   \n",
       "16                            13.286                 27.911     357.0   \n",
       "\n",
       "    RCF_Total_Score  TMT_A_Time  TMT_B_Time  \n",
       "0              31.0        75.0       175.0  \n",
       "11             34.0       142.0       155.0  \n",
       "13             31.0        73.0       184.0  \n",
       "15             15.5       100.0       300.0  \n",
       "16             18.5        67.0        93.0  \n",
       "\n",
       "[5 rows x 72 columns]"
      ]
     },
     "execution_count": 4,
     "metadata": {},
     "output_type": "execute_result"
    }
   ],
   "source": [
    "# creating instance of labelencoder\n",
    "labelencoder = LabelEncoder()\n",
    "# Assigning numerical values and storing in another column\n",
    "df['Genero'] = labelencoder.fit_transform(df['Genero'])\n",
    "df['ApoE_genotipo'] = labelencoder.fit_transform(df['ApoE_genotipo'])\n",
    "df['ApoE2masmenos'] = labelencoder.fit_transform(df['ApoE2masmenos'])\n",
    "df['ApoE4masmenos'] = labelencoder.fit_transform(df['ApoE4masmenos'])\n",
    "df['MAPT_genotipo'] = labelencoder.fit_transform(df['MAPT_genotipo'])\n",
    "df.head(5)\n",
    "#MALE = 1, FEMALE = 0"
   ]
  },
  {
   "cell_type": "markdown",
   "metadata": {},
   "source": [
    "**Spliting Data \"X\" and \"y\":**"
   ]
  },
  {
   "cell_type": "code",
   "execution_count": 5,
   "metadata": {},
   "outputs": [],
   "source": [
    "#Separación de la data\n",
    "df_data = df.drop(['Diagnostico'],axis = 1)\n",
    "df_target = df['Diagnostico']\n",
    "X, y = df_data, df_target\n",
    "X = X.values\n",
    "y = y.values"
   ]
  },
  {
   "cell_type": "markdown",
   "metadata": {},
   "source": [
    "**Oversampling the data so we have Balanced Data.**"
   ]
  },
  {
   "cell_type": "code",
   "execution_count": 6,
   "metadata": {},
   "outputs": [
    {
     "name": "stdout",
     "output_type": "stream",
     "text": [
      "Class=0, n=56 (25.000%)\n",
      "Class=3, n=56 (25.000%)\n",
      "Class=1, n=56 (25.000%)\n",
      "Class=2, n=56 (25.000%)\n"
     ]
    },
    {
     "data": {
      "image/png": "[encoded data removed]",
      "text/plain": [
       "<Figure size 432x288 with 1 Axes>"
      ]
     },
     "metadata": {
      "needs_background": "light"
     },
     "output_type": "display_data"
    }
   ],
   "source": [
    "from imblearn.over_sampling import SMOTE\n",
    "# label encode the target variable\n",
    "y = LabelEncoder().fit_transform(y)\n",
    "\n",
    "# transform the dataset\n",
    "strategy = {0:56, 1:56, 2:56, 3:56}\n",
    "oversample = SMOTE(sampling_strategy=strategy)\n",
    "X, y = oversample.fit_resample(X, y)\n",
    "# summarize distribution\n",
    "counter = Counter(y)\n",
    "for k,v in counter.items():\n",
    "\tper = v / len(y) * 100\n",
    "\tprint('Class=%d, n=%d (%.3f%%)' % (k, v, per))\n",
    "# plot the distribution\n",
    "pyplot.bar(counter.keys(), counter.values())\n",
    "pyplot.show()"
   ]
  },
  {
   "cell_type": "markdown",
   "metadata": {},
   "source": [
    "**Definig cross-validation score and RandomForest classifier:**"
   ]
  },
  {
   "cell_type": "code",
   "execution_count": 7,
   "metadata": {},
   "outputs": [
    {
     "name": "stdout",
     "output_type": "stream",
     "text": [
      "Mean Accuracy: 0.927 (0.031)\n"
     ]
    }
   ],
   "source": [
    "# evaluate a model\n",
    "def evaluate_model(X, y, model):\n",
    "\t# define evaluation procedure\n",
    "\tcv = RepeatedStratifiedKFold(n_splits=5, n_repeats=3, random_state=1)\n",
    "\t# evaluate model\n",
    "\tscores = cross_val_score(model, X, y, scoring='accuracy', cv=cv, n_jobs=-1)\n",
    "\treturn scores\n",
    " \n",
    "# define the model\n",
    "model = RandomForestClassifier(n_estimators=1000, class_weight='balanced')\n",
    "# evaluate the model\n",
    "scores = evaluate_model(X, y, model)\n",
    "# summarize performance\n",
    "print('Mean Accuracy: %.3f (%.3f)' % (mean(scores), std(scores)))"
   ]
  },
  {
   "cell_type": "markdown",
   "metadata": {},
   "source": [
    "**Train/Test split**"
   ]
  },
  {
   "cell_type": "code",
   "execution_count": 8,
   "metadata": {},
   "outputs": [],
   "source": [
    "# Train/test sets\n",
    "x_train, x_test, y_train, y_test = train_test_split(\n",
    "    X, y, test_size=0.25, random_state=1121218\n",
    ")"
   ]
  },
  {
   "cell_type": "markdown",
   "metadata": {},
   "source": [
    "**Normalizing or Scaling Data**"
   ]
  },
  {
   "cell_type": "code",
   "execution_count": 9,
   "metadata": {},
   "outputs": [],
   "source": [
    "from sklearn.preprocessing import MinMaxScaler  \n",
    "\n",
    "scaler = MinMaxScaler()\n",
    "x_train = scaler.fit_transform(x_train)\n",
    "x_test = scaler.transform(x_test)"
   ]
  },
  {
   "cell_type": "markdown",
   "metadata": {},
   "source": [
    "**Elbow method to calculate K value graphically:** To set the optimum value of K here, I have used the elbow method; the plot below shows the error rate against 100 values of K. Error rate is calculated by taking the mean of where the predicted value is not equal to the actual value."
   ]
  },
  {
   "cell_type": "code",
   "execution_count": 10,
   "metadata": {},
   "outputs": [
    {
     "data": {
      "image/png": "[encoded data removed]",
      "text/plain": [
       "<Figure size 936x576 with 1 Axes>"
      ]
     },
     "metadata": {
      "needs_background": "light"
     },
     "output_type": "display_data"
    }
   ],
   "source": [
    "error_rate=[]\n",
    "for i in range(1,100):\n",
    "    knn = KNeighborsClassifier(n_neighbors=i)\n",
    "    model = knn.fit(x_train,y_train)\n",
    "    pred_i = knn.predict(x_test)\n",
    "    error_rate.append(np.mean(pred_i != y_test))\n",
    "plt.figure(figsize=(13,8))\n",
    "plt.plot(range(1,100), error_rate, linestyle = 'dotted', marker = 'o',color = 'g')\n",
    "plt.xlabel('K value')\n",
    "plt.ylabel('Error Rate')\n",
    "plt.title('K value Vs Error Rate')\n",
    "plt.show() "
   ]
  },
  {
   "cell_type": "markdown",
   "metadata": {},
   "source": [
    "**Importing and testing KNN with a confusion matrix and different scoring methods: precision, recall, f1-score and support:**"
   ]
  },
  {
   "cell_type": "code",
   "execution_count": 11,
   "metadata": {},
   "outputs": [
    {
     "name": "stderr",
     "output_type": "stream",
     "text": [
      "C:\\ProgramData\\Anaconda3\\Conda3\\lib\\site-packages\\sklearn\\utils\\deprecation.py:87: FutureWarning: Function plot_confusion_matrix is deprecated; Function `plot_confusion_matrix` is deprecated in 1.0 and will be removed in 1.2. Use one of the class methods: ConfusionMatrixDisplay.from_predictions or ConfusionMatrixDisplay.from_estimator.\n",
      "  warnings.warn(msg, category=FutureWarning)\n"
     ]
    },
    {
     "name": "stdout",
     "output_type": "stream",
     "text": [
      "              precision    recall  f1-score   support\n",
      "\n",
      "           0       0.83      0.95      0.88        20\n",
      "           1       0.82      0.69      0.75        13\n",
      "           2       0.78      0.70      0.74        10\n",
      "           3       1.00      1.00      1.00        13\n",
      "\n",
      "    accuracy                           0.86        56\n",
      "   macro avg       0.86      0.84      0.84        56\n",
      "weighted avg       0.86      0.86      0.85        56\n",
      "\n"
     ]
    },
    {
     "data": {
      "image/png": "[encoded data removed]",
      "text/plain": [
       "<Figure size 432x288 with 2 Axes>"
      ]
     },
     "metadata": {
      "needs_background": "light"
     },
     "output_type": "display_data"
    }
   ],
   "source": [
    "from sklearn.metrics import classification_report\n",
    "model = KNeighborsClassifier(n_neighbors= 1 ).fit(x_train,y_train)\n",
    "pred = model.predict(x_test)\n",
    "plot_confusion_matrix(model,x_test,y_test,cmap=plt.cm.Blues)\n",
    "print(classification_report(y_test,pred))"
   ]
  },
  {
   "cell_type": "markdown",
   "metadata": {},
   "source": [
    "**Importing and testing Decision Tree with a confusion matrix and different scoring methods: precision, recall, f1-score and support:**"
   ]
  },
  {
   "cell_type": "code",
   "execution_count": 12,
   "metadata": {},
   "outputs": [
    {
     "name": "stderr",
     "output_type": "stream",
     "text": [
      "C:\\ProgramData\\Anaconda3\\Conda3\\lib\\site-packages\\sklearn\\utils\\deprecation.py:87: FutureWarning: Function plot_confusion_matrix is deprecated; Function `plot_confusion_matrix` is deprecated in 1.0 and will be removed in 1.2. Use one of the class methods: ConfusionMatrixDisplay.from_predictions or ConfusionMatrixDisplay.from_estimator.\n",
      "  warnings.warn(msg, category=FutureWarning)\n"
     ]
    },
    {
     "name": "stdout",
     "output_type": "stream",
     "text": [
      "              precision    recall  f1-score   support\n",
      "\n",
      "           0       0.88      0.70      0.78        20\n",
      "           1       0.75      0.92      0.83        13\n",
      "           2       0.57      0.80      0.67        10\n",
      "           3       0.80      0.62      0.70        13\n",
      "\n",
      "    accuracy                           0.75        56\n",
      "   macro avg       0.75      0.76      0.74        56\n",
      "weighted avg       0.77      0.75      0.75        56\n",
      "\n"
     ]
    },
    {
     "data": {
      "image/png": "[encoded data removed]",
      "text/plain": [
       "<Figure size 432x288 with 2 Axes>"
      ]
     },
     "metadata": {
      "needs_background": "light"
     },
     "output_type": "display_data"
    }
   ],
   "source": [
    "from sklearn.tree import DecisionTreeClassifier\n",
    "dt = DecisionTreeClassifier(random_state=0)\n",
    "dt.fit(x_train,y_train)\n",
    "\n",
    "pred = dt.predict(x_test)\n",
    "plot_confusion_matrix(dt,x_test,y_test,cmap=plt.cm.Blues)\n",
    "print(classification_report(y_test,pred))"
   ]
  },
  {
   "cell_type": "markdown",
   "metadata": {},
   "source": [
    "**Importing and testing GaussianNB (Naive Bayes) with a confusion matrix and different scoring methods: precision, recall, f1-score and support:**"
   ]
  },
  {
   "cell_type": "code",
   "execution_count": 13,
   "metadata": {},
   "outputs": [
    {
     "name": "stderr",
     "output_type": "stream",
     "text": [
      "C:\\ProgramData\\Anaconda3\\Conda3\\lib\\site-packages\\sklearn\\utils\\deprecation.py:87: FutureWarning: Function plot_confusion_matrix is deprecated; Function `plot_confusion_matrix` is deprecated in 1.0 and will be removed in 1.2. Use one of the class methods: ConfusionMatrixDisplay.from_predictions or ConfusionMatrixDisplay.from_estimator.\n",
      "  warnings.warn(msg, category=FutureWarning)\n"
     ]
    },
    {
     "name": "stdout",
     "output_type": "stream",
     "text": [
      "              precision    recall  f1-score   support\n",
      "\n",
      "           0       0.80      0.80      0.80        20\n",
      "           1       0.75      0.46      0.57        13\n",
      "           2       0.60      0.60      0.60        10\n",
      "           3       0.72      1.00      0.84        13\n",
      "\n",
      "    accuracy                           0.73        56\n",
      "   macro avg       0.72      0.72      0.70        56\n",
      "weighted avg       0.73      0.73      0.72        56\n",
      "\n"
     ]
    },
    {
     "data": {
      "image/png": "[encoded data removed]",
      "text/plain": [
       "<Figure size 432x288 with 2 Axes>"
      ]
     },
     "metadata": {
      "needs_background": "light"
     },
     "output_type": "display_data"
    }
   ],
   "source": [
    "from sklearn.naive_bayes import GaussianNB\n",
    "gnb = GaussianNB()\n",
    "gnb.fit(x_train,y_train)\n",
    "\n",
    "pred = gnb.predict(x_test)\n",
    "plot_confusion_matrix(gnb,x_test,y_test,cmap=plt.cm.Blues)\n",
    "print(classification_report(y_test,pred))"
   ]
  },
  {
   "cell_type": "markdown",
   "metadata": {},
   "source": [
    "**Importing and testing HistGradientBoostingClassifier with a confusion matrix and different scoring methods: precision, recall, f1-score and support:**"
   ]
  },
  {
   "cell_type": "code",
   "execution_count": 14,
   "metadata": {},
   "outputs": [
    {
     "name": "stderr",
     "output_type": "stream",
     "text": [
      "C:\\ProgramData\\Anaconda3\\Conda3\\lib\\site-packages\\sklearn\\utils\\deprecation.py:87: FutureWarning: Function plot_confusion_matrix is deprecated; Function `plot_confusion_matrix` is deprecated in 1.0 and will be removed in 1.2. Use one of the class methods: ConfusionMatrixDisplay.from_predictions or ConfusionMatrixDisplay.from_estimator.\n",
      "  warnings.warn(msg, category=FutureWarning)\n"
     ]
    },
    {
     "name": "stdout",
     "output_type": "stream",
     "text": [
      "              precision    recall  f1-score   support\n",
      "\n",
      "           0       0.88      0.75      0.81        20\n",
      "           1       0.73      0.85      0.79        13\n",
      "           2       0.83      1.00      0.91        10\n",
      "           3       1.00      0.92      0.96        13\n",
      "\n",
      "    accuracy                           0.86        56\n",
      "   macro avg       0.86      0.88      0.87        56\n",
      "weighted avg       0.87      0.86      0.86        56\n",
      "\n"
     ]
    },
    {
     "data": {
      "image/png": "[encoded data removed]",
      "text/plain": [
       "<Figure size 432x288 with 2 Axes>"
      ]
     },
     "metadata": {
      "needs_background": "light"
     },
     "output_type": "display_data"
    }
   ],
   "source": [
    "from sklearn.ensemble import HistGradientBoostingClassifier\n",
    "hgb = HistGradientBoostingClassifier()\n",
    "hgb.fit(x_train,y_train)\n",
    "\n",
    "pred = hgb.predict(x_test)\n",
    "plot_confusion_matrix(gnb,x_test,y_test,cmap=plt.cm.Blues)\n",
    "print(classification_report(y_test,pred))"
   ]
  }
 ],
 "metadata": {
  "kernelspec": {
   "display_name": "Python 3",
   "language": "python",
   "name": "python3"
  },
  "language_info": {
   "codemirror_mode": {
    "name": "ipython",
    "version": 3
   },
   "file_extension": ".py",
   "mimetype": "text/x-python",
   "name": "python",
   "nbconvert_exporter": "python",
   "pygments_lexer": "ipython3",
   "version": "3.8.5"
  }
 },
 "nbformat": 4,
 "nbformat_minor": 4
}
