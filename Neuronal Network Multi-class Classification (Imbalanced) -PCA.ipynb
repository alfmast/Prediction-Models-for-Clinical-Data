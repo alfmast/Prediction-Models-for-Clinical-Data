{
 "cells": [
  {
   "cell_type": "markdown",
   "metadata": {},
   "source": [
    "**Importing libraries and visualizing data.**"
   ]
  },
  {
   "cell_type": "code",
   "execution_count": 1,
   "metadata": {},
   "outputs": [
    {
     "data": {
      "text/html": [
       "<div>\n",
       "<style scoped>\n",
       "    .dataframe tbody tr th:only-of-type {\n",
       "        vertical-align: middle;\n",
       "    }\n",
       "\n",
       "    .dataframe tbody tr th {\n",
       "        vertical-align: top;\n",
       "    }\n",
       "\n",
       "    .dataframe thead th {\n",
       "        text-align: right;\n",
       "    }\n",
       "</style>\n",
       "<table border=\"1\" class=\"dataframe\">\n",
       "  <thead>\n",
       "    <tr style=\"text-align: right;\">\n",
       "      <th></th>\n",
       "      <th>Diagnostico</th>\n",
       "      <th>Genero</th>\n",
       "      <th>Edad</th>\n",
       "      <th>Escolaridad</th>\n",
       "      <th>IL_2</th>\n",
       "      <th>IL_6</th>\n",
       "      <th>IL_10</th>\n",
       "      <th>TNFa</th>\n",
       "      <th>SAP</th>\n",
       "      <th>CRP</th>\n",
       "      <th>...</th>\n",
       "      <th>T_ADLQ_I_Basic</th>\n",
       "      <th>T_ADLQ_I_Instrumental</th>\n",
       "      <th>T_ADLQ_I_Advanced</th>\n",
       "      <th>MiniSea_MiniSea_Total_FauxPas</th>\n",
       "      <th>MiniSea_MiniSea_Total_EkmanFaces</th>\n",
       "      <th>MiniSea_minisea_total</th>\n",
       "      <th>RCF_Time</th>\n",
       "      <th>RCF_Total_Score</th>\n",
       "      <th>TMT_A_Time</th>\n",
       "      <th>TMT_B_Time</th>\n",
       "    </tr>\n",
       "  </thead>\n",
       "  <tbody>\n",
       "    <tr>\n",
       "      <th>0</th>\n",
       "      <td>0.0</td>\n",
       "      <td>M</td>\n",
       "      <td>78.0</td>\n",
       "      <td>12.0</td>\n",
       "      <td>0.000</td>\n",
       "      <td>0.245</td>\n",
       "      <td>5.29</td>\n",
       "      <td>14.05</td>\n",
       "      <td>4154.0</td>\n",
       "      <td>384.0</td>\n",
       "      <td>...</td>\n",
       "      <td>0.0</td>\n",
       "      <td>0.158730</td>\n",
       "      <td>0.750000</td>\n",
       "      <td>11.250</td>\n",
       "      <td>12.000</td>\n",
       "      <td>23.250</td>\n",
       "      <td>176.0</td>\n",
       "      <td>31.0</td>\n",
       "      <td>75.0</td>\n",
       "      <td>175.0</td>\n",
       "    </tr>\n",
       "    <tr>\n",
       "      <th>1</th>\n",
       "      <td>0.0</td>\n",
       "      <td>M</td>\n",
       "      <td>73.0</td>\n",
       "      <td>15.0</td>\n",
       "      <td>0.065</td>\n",
       "      <td>3.120</td>\n",
       "      <td>4.38</td>\n",
       "      <td>10.84</td>\n",
       "      <td>8826.0</td>\n",
       "      <td>8332.0</td>\n",
       "      <td>...</td>\n",
       "      <td>NaN</td>\n",
       "      <td>NaN</td>\n",
       "      <td>NaN</td>\n",
       "      <td>11.625</td>\n",
       "      <td>10.714</td>\n",
       "      <td>22.339</td>\n",
       "      <td>179.0</td>\n",
       "      <td>29.0</td>\n",
       "      <td>70.0</td>\n",
       "      <td>147.0</td>\n",
       "    </tr>\n",
       "    <tr>\n",
       "      <th>2</th>\n",
       "      <td>0.0</td>\n",
       "      <td>M</td>\n",
       "      <td>73.0</td>\n",
       "      <td>12.0</td>\n",
       "      <td>0.000</td>\n",
       "      <td>0.610</td>\n",
       "      <td>62.60</td>\n",
       "      <td>20.35</td>\n",
       "      <td>4700.0</td>\n",
       "      <td>19096.0</td>\n",
       "      <td>...</td>\n",
       "      <td>NaN</td>\n",
       "      <td>NaN</td>\n",
       "      <td>NaN</td>\n",
       "      <td>8.625</td>\n",
       "      <td>10.714</td>\n",
       "      <td>19.339</td>\n",
       "      <td>91.0</td>\n",
       "      <td>29.0</td>\n",
       "      <td>63.0</td>\n",
       "      <td>141.0</td>\n",
       "    </tr>\n",
       "    <tr>\n",
       "      <th>3</th>\n",
       "      <td>0.0</td>\n",
       "      <td>F</td>\n",
       "      <td>71.0</td>\n",
       "      <td>12.0</td>\n",
       "      <td>0.195</td>\n",
       "      <td>1.615</td>\n",
       "      <td>3.23</td>\n",
       "      <td>10.25</td>\n",
       "      <td>7558.0</td>\n",
       "      <td>21330.0</td>\n",
       "      <td>...</td>\n",
       "      <td>0.0</td>\n",
       "      <td>0.192982</td>\n",
       "      <td>0.333333</td>\n",
       "      <td>8.625</td>\n",
       "      <td>7.714</td>\n",
       "      <td>16.339</td>\n",
       "      <td>351.0</td>\n",
       "      <td>35.0</td>\n",
       "      <td>35.0</td>\n",
       "      <td>91.0</td>\n",
       "    </tr>\n",
       "    <tr>\n",
       "      <th>4</th>\n",
       "      <td>0.0</td>\n",
       "      <td>M</td>\n",
       "      <td>74.0</td>\n",
       "      <td>10.0</td>\n",
       "      <td>0.000</td>\n",
       "      <td>0.300</td>\n",
       "      <td>1.81</td>\n",
       "      <td>7.63</td>\n",
       "      <td>6508.0</td>\n",
       "      <td>436.0</td>\n",
       "      <td>...</td>\n",
       "      <td>0.0</td>\n",
       "      <td>0.092593</td>\n",
       "      <td>0.466667</td>\n",
       "      <td>12.000</td>\n",
       "      <td>12.429</td>\n",
       "      <td>24.429</td>\n",
       "      <td>125.0</td>\n",
       "      <td>32.0</td>\n",
       "      <td>72.0</td>\n",
       "      <td>128.0</td>\n",
       "    </tr>\n",
       "  </tbody>\n",
       "</table>\n",
       "<p>5 rows × 72 columns</p>\n",
       "</div>"
      ],
      "text/plain": [
       "   Diagnostico Genero  Edad  Escolaridad   IL_2   IL_6  IL_10   TNFa     SAP  \\\n",
       "0          0.0      M  78.0         12.0  0.000  0.245   5.29  14.05  4154.0   \n",
       "1          0.0      M  73.0         15.0  0.065  3.120   4.38  10.84  8826.0   \n",
       "2          0.0      M  73.0         12.0  0.000  0.610  62.60  20.35  4700.0   \n",
       "3          0.0      F  71.0         12.0  0.195  1.615   3.23  10.25  7558.0   \n",
       "4          0.0      M  74.0         10.0  0.000  0.300   1.81   7.63  6508.0   \n",
       "\n",
       "       CRP  ... T_ADLQ_I_Basic  T_ADLQ_I_Instrumental T_ADLQ_I_Advanced  \\\n",
       "0    384.0  ...            0.0               0.158730          0.750000   \n",
       "1   8332.0  ...            NaN                    NaN               NaN   \n",
       "2  19096.0  ...            NaN                    NaN               NaN   \n",
       "3  21330.0  ...            0.0               0.192982          0.333333   \n",
       "4    436.0  ...            0.0               0.092593          0.466667   \n",
       "\n",
       "  MiniSea_MiniSea_Total_FauxPas MiniSea_MiniSea_Total_EkmanFaces  \\\n",
       "0                        11.250                           12.000   \n",
       "1                        11.625                           10.714   \n",
       "2                         8.625                           10.714   \n",
       "3                         8.625                            7.714   \n",
       "4                        12.000                           12.429   \n",
       "\n",
       "   MiniSea_minisea_total  RCF_Time  RCF_Total_Score  TMT_A_Time  TMT_B_Time  \n",
       "0                 23.250     176.0             31.0        75.0       175.0  \n",
       "1                 22.339     179.0             29.0        70.0       147.0  \n",
       "2                 19.339      91.0             29.0        63.0       141.0  \n",
       "3                 16.339     351.0             35.0        35.0        91.0  \n",
       "4                 24.429     125.0             32.0        72.0       128.0  \n",
       "\n",
       "[5 rows x 72 columns]"
      ]
     },
     "execution_count": 1,
     "metadata": {},
     "output_type": "execute_result"
    }
   ],
   "source": [
    "from keras.models import Sequential\n",
    "from keras.layers import Dense\n",
    "from keras.wrappers.scikit_learn import KerasClassifier\n",
    "from keras.utils import np_utils\n",
    "from sklearn.model_selection import cross_val_score\n",
    "from sklearn.model_selection import KFold\n",
    "from sklearn.preprocessing import LabelEncoder\n",
    "from sklearn.pipeline import Pipeline\n",
    "from sklearn.preprocessing import MinMaxScaler\n",
    "from sklearn.model_selection import train_test_split\n",
    "from joblib import dump, load\n",
    "import pandas as pd \n",
    "import numpy as np \n",
    "from sklearn.compose import ColumnTransformer\n",
    "from sklearn.preprocessing import OrdinalEncoder\n",
    "from sklearn.preprocessing import MinMaxScaler\n",
    "from sklearn.preprocessing import OneHotEncoder\n",
    "\n",
    "df = pd.read_excel('Clinical Data.xlsx', sheet_name= \"DATACOMPLETA\") \n",
    "df.head(5) "
   ]
  },
  {
   "cell_type": "markdown",
   "metadata": {},
   "source": [
    "**Saving and displaying rows with NAN's**"
   ]
  },
  {
   "cell_type": "code",
   "execution_count": 2,
   "metadata": {},
   "outputs": [
    {
     "name": "stdout",
     "output_type": "stream",
     "text": [
      "[1, 2, 3, 4, 5, 6, 7, 8, 9, 10, 12, 14, 20, 21, 24, 27, 42, 44, 51, 57, 61, 62, 63, 66, 82, 87, 88, 94, 98, 99, 100, 103, 110, 112, 117, 119, 120, 121, 123, 124, 128, 129, 130, 133, 134, 135, 141, 142, 143, 164, 169, 172, 177, 180, 183, 184, 186, 197, 198, 201, 203, 204, 205, 206, 207, 209, 210, 213, 214, 216, 217]\n"
     ]
    }
   ],
   "source": [
    "rows_with_nan = [index for index, row in df.iterrows() if row.isnull().any()]\n",
    "\n",
    "print(rows_with_nan)"
   ]
  },
  {
   "cell_type": "markdown",
   "metadata": {},
   "source": [
    "**Dropping NAN values**"
   ]
  },
  {
   "cell_type": "code",
   "execution_count": 3,
   "metadata": {},
   "outputs": [
    {
     "data": {
      "text/plain": [
       "147"
      ]
     },
     "execution_count": 3,
     "metadata": {},
     "output_type": "execute_result"
    }
   ],
   "source": [
    "df= df.dropna()\n",
    "len(df)"
   ]
  },
  {
   "cell_type": "markdown",
   "metadata": {},
   "source": [
    "**Creating instance of labelencoder**"
   ]
  },
  {
   "cell_type": "code",
   "execution_count": 4,
   "metadata": {},
   "outputs": [],
   "source": [
    "\n",
    "labelencoder = LabelEncoder()\n"
   ]
  },
  {
   "cell_type": "markdown",
   "metadata": {},
   "source": [
    "**Defining objective variable**"
   ]
  },
  {
   "cell_type": "code",
   "execution_count": 5,
   "metadata": {},
   "outputs": [],
   "source": [
    "\n",
    "Y  = df['Diagnostico']\n",
    "\n"
   ]
  },
  {
   "cell_type": "markdown",
   "metadata": {},
   "source": [
    "**Defining \"input\" variables**"
   ]
  },
  {
   "cell_type": "code",
   "execution_count": 6,
   "metadata": {},
   "outputs": [],
   "source": [
    "df = df.drop(['Diagnostico'],axis = 1)"
   ]
  },
  {
   "cell_type": "markdown",
   "metadata": {},
   "source": [
    "**Visualizing Objective Variable**"
   ]
  },
  {
   "cell_type": "code",
   "execution_count": 7,
   "metadata": {},
   "outputs": [
    {
     "data": {
      "text/html": [
       "<div>\n",
       "<style scoped>\n",
       "    .dataframe tbody tr th:only-of-type {\n",
       "        vertical-align: middle;\n",
       "    }\n",
       "\n",
       "    .dataframe tbody tr th {\n",
       "        vertical-align: top;\n",
       "    }\n",
       "\n",
       "    .dataframe thead th {\n",
       "        text-align: right;\n",
       "    }\n",
       "</style>\n",
       "<table border=\"1\" class=\"dataframe\">\n",
       "  <thead>\n",
       "    <tr style=\"text-align: right;\">\n",
       "      <th></th>\n",
       "      <th>Diagnostico</th>\n",
       "    </tr>\n",
       "  </thead>\n",
       "  <tbody>\n",
       "    <tr>\n",
       "      <th>0</th>\n",
       "      <td>0.0</td>\n",
       "    </tr>\n",
       "    <tr>\n",
       "      <th>11</th>\n",
       "      <td>0.0</td>\n",
       "    </tr>\n",
       "    <tr>\n",
       "      <th>13</th>\n",
       "      <td>0.0</td>\n",
       "    </tr>\n",
       "    <tr>\n",
       "      <th>15</th>\n",
       "      <td>0.0</td>\n",
       "    </tr>\n",
       "    <tr>\n",
       "      <th>16</th>\n",
       "      <td>0.0</td>\n",
       "    </tr>\n",
       "  </tbody>\n",
       "</table>\n",
       "</div>"
      ],
      "text/plain": [
       "    Diagnostico\n",
       "0           0.0\n",
       "11          0.0\n",
       "13          0.0\n",
       "15          0.0\n",
       "16          0.0"
      ]
     },
     "execution_count": 7,
     "metadata": {},
     "output_type": "execute_result"
    }
   ],
   "source": [
    "pd.DataFrame(Y).head()"
   ]
  },
  {
   "cell_type": "markdown",
   "metadata": {},
   "source": [
    "**Separating between categorical and numerical variables**"
   ]
  },
  {
   "cell_type": "code",
   "execution_count": 8,
   "metadata": {},
   "outputs": [],
   "source": [
    "numerical_ix = df.select_dtypes(include=['int64', 'float64']).columns\n",
    "categorical_ix = df.select_dtypes(include=['object', 'bool']).columns"
   ]
  },
  {
   "cell_type": "markdown",
   "metadata": {},
   "source": [
    "**Encoding labels that have a \"string\" structure:**"
   ]
  },
  {
   "cell_type": "code",
   "execution_count": 9,
   "metadata": {},
   "outputs": [
    {
     "data": {
      "text/plain": [
       "ColumnTransformer(transformers=[('cat', OrdinalEncoder(),\n",
       "                                 Index(['Genero', 'ApoE_genotipo', 'ApoE2masmenos', 'ApoE4masmenos',\n",
       "       'MAPT_genotipo'],\n",
       "      dtype='object')),\n",
       "                                ('num', MinMaxScaler(feature_range=(-1, 1)),\n",
       "                                 Index(['Edad', 'Escolaridad', 'IL_2', 'IL_6', 'IL_10', 'TNFa', 'SAP', 'CRP',\n",
       "       'APOE_GENOTIPO', 'MAPT_GENOTIPO', 'Pfeffer_Total_Score',\n",
       "       'Digit_Span_Total_Recall', 'Digi...\n",
       "       'SMBT_2_Binding_ensayos_correctos', 'SMBT_2_Binding_porcentaje',\n",
       "       'SMBT_3_Binding_ensayos_correctos', 'SMBT_3_Binding_porcentaje',\n",
       "       'T_ADLQ_I_Total_Decline', 'T_ADLQ_I_Basic', 'T_ADLQ_I_Instrumental',\n",
       "       'T_ADLQ_I_Advanced', 'MiniSea_MiniSea_Total_FauxPas',\n",
       "       'MiniSea_MiniSea_Total_EkmanFaces', 'MiniSea_minisea_total', 'RCF_Time',\n",
       "       'RCF_Total_Score', 'TMT_A_Time', 'TMT_B_Time'],\n",
       "      dtype='object'))])"
      ]
     },
     "execution_count": 9,
     "metadata": {},
     "output_type": "execute_result"
    }
   ],
   "source": [
    "column_trans = ColumnTransformer(\n",
    "     [('cat', OrdinalEncoder(),categorical_ix),\n",
    "      ('num', MinMaxScaler(feature_range=(-1, 1)), numerical_ix)],\n",
    "     remainder='drop')\n",
    "\n",
    "column_trans.fit(df)\n"
   ]
  },
  {
   "cell_type": "markdown",
   "metadata": {},
   "source": [
    "To run the code with different variables you have to run it from here"
   ]
  },
  {
   "cell_type": "markdown",
   "metadata": {},
   "source": [
    "**Transforming input variables**"
   ]
  },
  {
   "cell_type": "code",
   "execution_count": 10,
   "metadata": {},
   "outputs": [
    {
     "data": {
      "text/html": [
       "<div>\n",
       "<style scoped>\n",
       "    .dataframe tbody tr th:only-of-type {\n",
       "        vertical-align: middle;\n",
       "    }\n",
       "\n",
       "    .dataframe tbody tr th {\n",
       "        vertical-align: top;\n",
       "    }\n",
       "\n",
       "    .dataframe thead th {\n",
       "        text-align: right;\n",
       "    }\n",
       "</style>\n",
       "<table border=\"1\" class=\"dataframe\">\n",
       "  <thead>\n",
       "    <tr style=\"text-align: right;\">\n",
       "      <th></th>\n",
       "      <th>0</th>\n",
       "      <th>1</th>\n",
       "      <th>2</th>\n",
       "      <th>3</th>\n",
       "      <th>4</th>\n",
       "      <th>5</th>\n",
       "      <th>6</th>\n",
       "      <th>7</th>\n",
       "      <th>8</th>\n",
       "      <th>9</th>\n",
       "      <th>...</th>\n",
       "      <th>61</th>\n",
       "      <th>62</th>\n",
       "      <th>63</th>\n",
       "      <th>64</th>\n",
       "      <th>65</th>\n",
       "      <th>66</th>\n",
       "      <th>67</th>\n",
       "      <th>68</th>\n",
       "      <th>69</th>\n",
       "      <th>70</th>\n",
       "    </tr>\n",
       "  </thead>\n",
       "  <tbody>\n",
       "    <tr>\n",
       "      <th>0</th>\n",
       "      <td>1.0</td>\n",
       "      <td>2.0</td>\n",
       "      <td>1.0</td>\n",
       "      <td>1.0</td>\n",
       "      <td>1.0</td>\n",
       "      <td>-0.151515</td>\n",
       "      <td>-0.083333</td>\n",
       "      <td>-1.000000</td>\n",
       "      <td>-0.991507</td>\n",
       "      <td>-0.836538</td>\n",
       "      <td>...</td>\n",
       "      <td>-1.0</td>\n",
       "      <td>-0.598997</td>\n",
       "      <td>-1.0</td>\n",
       "      <td>-0.739130</td>\n",
       "      <td>0.696953</td>\n",
       "      <td>0.576150</td>\n",
       "      <td>-0.711968</td>\n",
       "      <td>-0.866040</td>\n",
       "      <td>-0.867704</td>\n",
       "      <td>-0.694286</td>\n",
       "    </tr>\n",
       "    <tr>\n",
       "      <th>1</th>\n",
       "      <td>1.0</td>\n",
       "      <td>2.0</td>\n",
       "      <td>1.0</td>\n",
       "      <td>1.0</td>\n",
       "      <td>1.0</td>\n",
       "      <td>-0.272727</td>\n",
       "      <td>-0.833333</td>\n",
       "      <td>-0.920529</td>\n",
       "      <td>-1.000000</td>\n",
       "      <td>-0.926626</td>\n",
       "      <td>...</td>\n",
       "      <td>-1.0</td>\n",
       "      <td>-0.558897</td>\n",
       "      <td>-1.0</td>\n",
       "      <td>-0.817391</td>\n",
       "      <td>0.696953</td>\n",
       "      <td>0.298006</td>\n",
       "      <td>-0.395538</td>\n",
       "      <td>-0.851939</td>\n",
       "      <td>-0.693904</td>\n",
       "      <td>-0.751429</td>\n",
       "    </tr>\n",
       "    <tr>\n",
       "      <th>2</th>\n",
       "      <td>0.0</td>\n",
       "      <td>2.0</td>\n",
       "      <td>1.0</td>\n",
       "      <td>1.0</td>\n",
       "      <td>0.0</td>\n",
       "      <td>-0.515152</td>\n",
       "      <td>-0.416667</td>\n",
       "      <td>-0.769567</td>\n",
       "      <td>-0.999939</td>\n",
       "      <td>1.000000</td>\n",
       "      <td>...</td>\n",
       "      <td>-1.0</td>\n",
       "      <td>-0.955679</td>\n",
       "      <td>-1.0</td>\n",
       "      <td>-0.721739</td>\n",
       "      <td>0.515096</td>\n",
       "      <td>0.531976</td>\n",
       "      <td>-0.709939</td>\n",
       "      <td>-0.866040</td>\n",
       "      <td>-0.872892</td>\n",
       "      <td>-0.668571</td>\n",
       "    </tr>\n",
       "    <tr>\n",
       "      <th>3</th>\n",
       "      <td>0.0</td>\n",
       "      <td>0.0</td>\n",
       "      <td>0.0</td>\n",
       "      <td>1.0</td>\n",
       "      <td>0.0</td>\n",
       "      <td>-0.333333</td>\n",
       "      <td>-0.083333</td>\n",
       "      <td>-0.967033</td>\n",
       "      <td>-0.938189</td>\n",
       "      <td>-0.916713</td>\n",
       "      <td>...</td>\n",
       "      <td>-1.0</td>\n",
       "      <td>-0.558897</td>\n",
       "      <td>-1.0</td>\n",
       "      <td>-0.747826</td>\n",
       "      <td>0.454571</td>\n",
       "      <td>0.403989</td>\n",
       "      <td>-0.616633</td>\n",
       "      <td>-0.938895</td>\n",
       "      <td>-0.802853</td>\n",
       "      <td>-0.337143</td>\n",
       "    </tr>\n",
       "    <tr>\n",
       "      <th>4</th>\n",
       "      <td>0.0</td>\n",
       "      <td>2.0</td>\n",
       "      <td>1.0</td>\n",
       "      <td>1.0</td>\n",
       "      <td>0.0</td>\n",
       "      <td>-0.272727</td>\n",
       "      <td>0.333333</td>\n",
       "      <td>-0.902568</td>\n",
       "      <td>-1.000000</td>\n",
       "      <td>-0.954445</td>\n",
       "      <td>...</td>\n",
       "      <td>-1.0</td>\n",
       "      <td>-0.799499</td>\n",
       "      <td>-1.0</td>\n",
       "      <td>-0.660870</td>\n",
       "      <td>0.878809</td>\n",
       "      <td>0.960277</td>\n",
       "      <td>-0.344828</td>\n",
       "      <td>-0.924794</td>\n",
       "      <td>-0.888457</td>\n",
       "      <td>-0.928571</td>\n",
       "    </tr>\n",
       "  </tbody>\n",
       "</table>\n",
       "<p>5 rows × 71 columns</p>\n",
       "</div>"
      ],
      "text/plain": [
       "    0    1    2    3    4         5         6         7         8         9   \\\n",
       "0  1.0  2.0  1.0  1.0  1.0 -0.151515 -0.083333 -1.000000 -0.991507 -0.836538   \n",
       "1  1.0  2.0  1.0  1.0  1.0 -0.272727 -0.833333 -0.920529 -1.000000 -0.926626   \n",
       "2  0.0  2.0  1.0  1.0  0.0 -0.515152 -0.416667 -0.769567 -0.999939  1.000000   \n",
       "3  0.0  0.0  0.0  1.0  0.0 -0.333333 -0.083333 -0.967033 -0.938189 -0.916713   \n",
       "4  0.0  2.0  1.0  1.0  0.0 -0.272727  0.333333 -0.902568 -1.000000 -0.954445   \n",
       "\n",
       "   ...   61        62   63        64        65        66        67        68  \\\n",
       "0  ... -1.0 -0.598997 -1.0 -0.739130  0.696953  0.576150 -0.711968 -0.866040   \n",
       "1  ... -1.0 -0.558897 -1.0 -0.817391  0.696953  0.298006 -0.395538 -0.851939   \n",
       "2  ... -1.0 -0.955679 -1.0 -0.721739  0.515096  0.531976 -0.709939 -0.866040   \n",
       "3  ... -1.0 -0.558897 -1.0 -0.747826  0.454571  0.403989 -0.616633 -0.938895   \n",
       "4  ... -1.0 -0.799499 -1.0 -0.660870  0.878809  0.960277 -0.344828 -0.924794   \n",
       "\n",
       "         69        70  \n",
       "0 -0.867704 -0.694286  \n",
       "1 -0.693904 -0.751429  \n",
       "2 -0.872892 -0.668571  \n",
       "3 -0.802853 -0.337143  \n",
       "4 -0.888457 -0.928571  \n",
       "\n",
       "[5 rows x 71 columns]"
      ]
     },
     "execution_count": 10,
     "metadata": {},
     "output_type": "execute_result"
    }
   ],
   "source": [
    "X = column_trans.transform(df)\n",
    "\n",
    "pd.DataFrame(X).head()"
   ]
  },
  {
   "cell_type": "markdown",
   "metadata": {},
   "source": [
    "**Oversampling the data so we have Balanced Data.**"
   ]
  },
  {
   "cell_type": "code",
   "execution_count": 11,
   "metadata": {},
   "outputs": [
    {
     "name": "stdout",
     "output_type": "stream",
     "text": [
      "Class=0, n=56 (25.000%)\n",
      "Class=3, n=56 (25.000%)\n",
      "Class=1, n=56 (25.000%)\n",
      "Class=2, n=56 (25.000%)\n"
     ]
    },
    {
     "data": {
      "image/png": "[encoded data removed]",
      "text/plain": [
       "<Figure size 432x288 with 1 Axes>"
      ]
     },
     "metadata": {
      "needs_background": "light"
     },
     "output_type": "display_data"
    }
   ],
   "source": [
    "from imblearn.over_sampling import SMOTE\n",
    "from collections import Counter\n",
    "from matplotlib import pyplot\n",
    "# transform the dataset\n",
    "strategy = {0:56, 1:56, 2:56, 3:56}\n",
    "oversample = SMOTE(sampling_strategy=strategy)\n",
    "X, Y = oversample.fit_resample(X, Y)\n",
    "# summarize distribution\n",
    "counter = Counter(Y)\n",
    "for k,v in counter.items():\n",
    "\tper = v / len(Y) * 100\n",
    "\tprint('Class=%d, n=%d (%.3f%%)' % (k, v, per))\n",
    "# plot the distribution\n",
    "pyplot.bar(counter.keys(), counter.values())\n",
    "pyplot.show()"
   ]
  },
  {
   "cell_type": "markdown",
   "metadata": {},
   "source": [
    "**Train/Test split**"
   ]
  },
  {
   "cell_type": "code",
   "execution_count": 12,
   "metadata": {},
   "outputs": [],
   "source": [
    "#Para probar con diferentes componentes hay que volver a dividir los datasets.\n",
    "X_train, X_test, y_train, y_test = train_test_split(X, Y, test_size=0.3, random_state=42)"
   ]
  },
  {
   "cell_type": "markdown",
   "metadata": {},
   "source": [
    "**Normalizing or Scaling Data**"
   ]
  },
  {
   "cell_type": "code",
   "execution_count": 13,
   "metadata": {},
   "outputs": [],
   "source": [
    "# performing preprocessing part\n",
    "from sklearn.preprocessing import StandardScaler\n",
    "sc = StandardScaler()\n",
    " \n",
    "X_train = sc.fit_transform(X_train)\n",
    "X_test = sc.transform(X_test)"
   ]
  },
  {
   "cell_type": "markdown",
   "metadata": {},
   "source": [
    "**Applying PCA function on training and testing set of X component**"
   ]
  },
  {
   "cell_type": "code",
   "execution_count": 14,
   "metadata": {},
   "outputs": [],
   "source": [
    "from sklearn.decomposition import PCA\n",
    " \n",
    "pca = PCA(n_components = 35)\n",
    " \n",
    "X_train = pca.fit_transform(X_train)\n",
    "X_test = pca.transform(X_test)\n",
    "X = pca.transform(X)\n",
    "explained_variance = pca.explained_variance_ratio_"
   ]
  },
  {
   "cell_type": "markdown",
   "metadata": {},
   "source": [
    "**One-hot encoding the objective variable**"
   ]
  },
  {
   "cell_type": "code",
   "execution_count": 15,
   "metadata": {},
   "outputs": [],
   "source": [
    "yhot = np_utils.to_categorical(Y)\n",
    "yhot_train = np_utils.to_categorical(y_train)\n",
    "yhot_test = np_utils.to_categorical(y_test)"
   ]
  },
  {
   "cell_type": "markdown",
   "metadata": {},
   "source": [
    "**Defining base model and parameters of the neuronal network**"
   ]
  },
  {
   "cell_type": "code",
   "execution_count": 16,
   "metadata": {},
   "outputs": [],
   "source": [
    "# define baseline model\n",
    "def baseline_model():\n",
    "\t# create model\n",
    "\tmodel = Sequential()\n",
    "\t# Rectified Linear Unit Activation Function\n",
    "\tmodel.add(Dense(70, input_dim=35, activation='relu'))\n",
    "\tmodel.add(Dense(70, activation = 'relu'))\n",
    "\t# Softmax for multi-class classification\n",
    "\tmodel.add(Dense(4, activation='softmax'))\n",
    "\t# Compile model\n",
    "\tmodel.compile(loss='categorical_crossentropy', optimizer='adam', metrics=['accuracy'])\n",
    "\treturn model"
   ]
  },
  {
   "cell_type": "markdown",
   "metadata": {},
   "source": [
    "**Defining base model and parameters of the neuronal network**"
   ]
  },
  {
   "cell_type": "code",
   "execution_count": 17,
   "metadata": {},
   "outputs": [],
   "source": [
    "\n",
    "cmodel = KerasClassifier(build_fn=baseline_model, epochs=50, batch_size=5, verbose=0)"
   ]
  },
  {
   "cell_type": "markdown",
   "metadata": {},
   "source": [
    "**Defining scoring method**"
   ]
  },
  {
   "cell_type": "code",
   "execution_count": 18,
   "metadata": {},
   "outputs": [],
   "source": [
    "kfold = KFold(n_splits=10, shuffle=True)"
   ]
  },
  {
   "cell_type": "markdown",
   "metadata": {},
   "source": [
    "**Printing result of accuracy of the method**"
   ]
  },
  {
   "cell_type": "code",
   "execution_count": 19,
   "metadata": {},
   "outputs": [
    {
     "name": "stdout",
     "output_type": "stream",
     "text": [
      "Baseline: 89.33% (6.34%)\n"
     ]
    }
   ],
   "source": [
    "result = cross_val_score(cmodel, X, yhot, cv=kfold)\n",
    "print(\"Baseline: %.2f%% (%.2f%%)\" % (result.mean()*100, result.std()*100))"
   ]
  },
  {
   "cell_type": "markdown",
   "metadata": {},
   "source": [
    "****"
   ]
  },
  {
   "cell_type": "code",
   "execution_count": 20,
   "metadata": {},
   "outputs": [],
   "source": [
    "model = baseline_model()\n",
    "model.compile(loss='categorical_crossentropy', optimizer='adam', metrics=['accuracy'])\n",
    "\n",
    "history = model.fit(X_train, yhot_train, validation_split=0.3,\n",
    "                    epochs=50, batch_size=5, verbose=0)"
   ]
  },
  {
   "cell_type": "markdown",
   "metadata": {},
   "source": [
    "**Ploting the accuracy and loss of the method in every epoch**"
   ]
  },
  {
   "cell_type": "code",
   "execution_count": 21,
   "metadata": {},
   "outputs": [
    {
     "name": "stdout",
     "output_type": "stream",
     "text": [
      "dict_keys(['loss', 'accuracy', 'val_loss', 'val_accuracy'])\n"
     ]
    },
    {
     "data": {
      "image/png": "[encoded data removed]",
      "text/plain": [
       "<Figure size 432x288 with 1 Axes>"
      ]
     },
     "metadata": {
      "needs_background": "light"
     },
     "output_type": "display_data"
    },
    {
     "data": {
      "image/png": "[encoded data removed]",
      "text/plain": [
       "<Figure size 432x288 with 1 Axes>"
      ]
     },
     "metadata": {
      "needs_background": "light"
     },
     "output_type": "display_data"
    }
   ],
   "source": [
    "import matplotlib.pyplot as plt\n",
    "# list all data in history\n",
    "print(history.history.keys())\n",
    "# summarize history for accuracy\n",
    "plt.plot(history.history['accuracy'])\n",
    "plt.plot(history.history['val_accuracy'])\n",
    "plt.title('model accuracy')\n",
    "plt.ylabel('accuracy')\n",
    "plt.xlabel('epoch')\n",
    "plt.legend(['train', 'test'], loc='upper left')\n",
    "plt.show()\n",
    "# summarize history for loss\n",
    "plt.plot(history.history['loss'])\n",
    "plt.plot(history.history['val_loss'])\n",
    "plt.title('model loss')\n",
    "plt.ylabel('loss')\n",
    "plt.xlabel('epoch')\n",
    "plt.legend(['train', 'test'], loc='upper left')\n",
    "plt.show()"
   ]
  },
  {
   "cell_type": "markdown",
   "metadata": {},
   "source": [
    "**Evaluating Keras model**"
   ]
  },
  {
   "cell_type": "code",
   "execution_count": 22,
   "metadata": {},
   "outputs": [
    {
     "name": "stdout",
     "output_type": "stream",
     "text": [
      "3/3 [==============================] - 0s 2ms/step - loss: 0.6595 - accuracy: 0.8676\n",
      "Accuracy from evaluate: 86.76\n"
     ]
    }
   ],
   "source": [
    "# evaluate the keras model\n",
    "_, accuracy = model.evaluate(X_test, yhot_test)\n",
    "print('Accuracy from evaluate: %.2f' % (accuracy*100))"
   ]
  },
  {
   "cell_type": "markdown",
   "metadata": {},
   "source": [
    "**Other form of getting the accuracy of the model**"
   ]
  },
  {
   "cell_type": "code",
   "execution_count": 23,
   "metadata": {},
   "outputs": [
    {
     "name": "stdout",
     "output_type": "stream",
     "text": [
      "Prediction Accuracy: 86.764706\n"
     ]
    }
   ],
   "source": [
    "predict_x = model.predict(X_test)\n",
    "pred = np.argmax(predict_x, axis=1)\n",
    "print(f'Prediction Accuracy: {(pred == y_test).mean() * 100:f}')"
   ]
  },
  {
   "cell_type": "markdown",
   "metadata": {},
   "source": [
    "**Plotting the confussion matrix**"
   ]
  },
  {
   "cell_type": "code",
   "execution_count": 24,
   "metadata": {},
   "outputs": [
    {
     "name": "stdout",
     "output_type": "stream",
     "text": [
      "              precision    recall  f1-score   support\n",
      "\n",
      "         0.0       0.77      1.00      0.87        17\n",
      "         1.0       0.90      0.56      0.69        16\n",
      "         2.0       0.86      0.90      0.88        20\n",
      "         3.0       1.00      1.00      1.00        15\n",
      "\n",
      "    accuracy                           0.87        68\n",
      "   macro avg       0.88      0.87      0.86        68\n",
      "weighted avg       0.88      0.87      0.86        68\n",
      "\n"
     ]
    }
   ],
   "source": [
    "from sklearn.metrics import plot_confusion_matrix\n",
    "from sklearn.metrics import classification_report\n",
    "print(classification_report(y_test,pred))"
   ]
  }
 ],
 "metadata": {
  "interpreter": {
   "hash": "dcdb945b898c3d0c280683f69e34eb0246c5444f9209e8db17044cb6726079d0"
  },
  "kernelspec": {
   "display_name": "Python 3.8.5 64-bit (conda)",
   "name": "python3"
  },
  "language_info": {
   "codemirror_mode": {
    "name": "ipython",
    "version": 3
   },
   "file_extension": ".py",
   "mimetype": "text/x-python",
   "name": "python",
   "nbconvert_exporter": "python",
   "pygments_lexer": "ipython3",
   "version": "3.8.5"
  }
 },
 "nbformat": 4,
 "nbformat_minor": 4
}
