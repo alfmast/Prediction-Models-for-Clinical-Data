{
 "cells": [
  {
   "cell_type": "code",
   "execution_count": 3,
   "metadata": {},
   "outputs": [],
   "source": [
    "from keras.models import Sequential\n",
    "from keras.layers import Dense\n",
    "from keras.wrappers.scikit_learn import KerasClassifier\n",
    "from keras.utils import np_utils\n",
    "from sklearn.model_selection import cross_val_score\n",
    "from sklearn.model_selection import KFold\n",
    "from sklearn.preprocessing import LabelEncoder\n",
    "from sklearn.pipeline import Pipeline\n",
    "from sklearn.preprocessing import MinMaxScaler\n",
    "from sklearn.model_selection import train_test_split\n",
    "from joblib import dump, load\n",
    "import pandas as pd \n",
    "import numpy as np "
   ]
  },
  {
   "cell_type": "code",
   "execution_count": 4,
   "metadata": {},
   "outputs": [],
   "source": [
    "df = pd.read_excel('datafred.xlsx', sheet_name= \"DATACOMPLETA\") "
   ]
  },
  {
   "cell_type": "code",
   "execution_count": 5,
   "metadata": {},
   "outputs": [
    {
     "name": "stdout",
     "output_type": "stream",
     "text": [
      "[1, 2, 3, 4, 5, 6, 7, 8, 9, 10, 12, 14, 20, 21, 24, 27, 42, 44, 51, 57, 61, 62, 63, 66, 82, 87, 88, 94, 98, 99, 100, 103, 110, 112, 117, 119, 120, 121, 123, 124, 128, 129, 130, 133, 134, 135, 141, 142, 143, 164, 169, 172, 177, 180, 183, 184, 186, 197, 198, 201, 203, 204, 205, 206, 207, 209, 210, 213, 214, 216, 217]\n"
     ]
    }
   ],
   "source": [
    "rows_with_nan = [index for index, row in df.iterrows() if row.isnull().any()]\n",
    "\n",
    "print(rows_with_nan)"
   ]
  },
  {
   "cell_type": "code",
   "execution_count": 6,
   "metadata": {},
   "outputs": [
    {
     "data": {
      "text/plain": [
       "147"
      ]
     },
     "execution_count": 6,
     "metadata": {},
     "output_type": "execute_result"
    }
   ],
   "source": [
    "df= df.dropna()\n",
    "len(df)"
   ]
  },
  {
   "cell_type": "code",
   "execution_count": 7,
   "metadata": {},
   "outputs": [
    {
     "data": {
      "text/html": [
       "<div>\n",
       "<style scoped>\n",
       "    .dataframe tbody tr th:only-of-type {\n",
       "        vertical-align: middle;\n",
       "    }\n",
       "\n",
       "    .dataframe tbody tr th {\n",
       "        vertical-align: top;\n",
       "    }\n",
       "\n",
       "    .dataframe thead th {\n",
       "        text-align: right;\n",
       "    }\n",
       "</style>\n",
       "<table border=\"1\" class=\"dataframe\">\n",
       "  <thead>\n",
       "    <tr style=\"text-align: right;\">\n",
       "      <th></th>\n",
       "      <th>Diagnostico</th>\n",
       "      <th>Genero</th>\n",
       "      <th>Edad</th>\n",
       "      <th>Escolaridad</th>\n",
       "      <th>IL_2</th>\n",
       "      <th>IL_6</th>\n",
       "      <th>IL_10</th>\n",
       "      <th>TNFa</th>\n",
       "      <th>SAP</th>\n",
       "      <th>CRP</th>\n",
       "      <th>...</th>\n",
       "      <th>T_ADLQ_I_Basic</th>\n",
       "      <th>T_ADLQ_I_Instrumental</th>\n",
       "      <th>T_ADLQ_I_Advanced</th>\n",
       "      <th>MiniSea_MiniSea_Total_FauxPas</th>\n",
       "      <th>MiniSea_MiniSea_Total_EkmanFaces</th>\n",
       "      <th>MiniSea_minisea_total</th>\n",
       "      <th>RCF_Time</th>\n",
       "      <th>RCF_Total_Score</th>\n",
       "      <th>TMT_A_Time</th>\n",
       "      <th>TMT_B_Time</th>\n",
       "    </tr>\n",
       "  </thead>\n",
       "  <tbody>\n",
       "    <tr>\n",
       "      <th>0</th>\n",
       "      <td>0.0</td>\n",
       "      <td>M</td>\n",
       "      <td>78.0</td>\n",
       "      <td>12.0</td>\n",
       "      <td>0.00000</td>\n",
       "      <td>0.24500</td>\n",
       "      <td>5.2900</td>\n",
       "      <td>14.0500</td>\n",
       "      <td>4154.0</td>\n",
       "      <td>384.0</td>\n",
       "      <td>...</td>\n",
       "      <td>0.0</td>\n",
       "      <td>0.158730</td>\n",
       "      <td>0.750000</td>\n",
       "      <td>11.250</td>\n",
       "      <td>12.000</td>\n",
       "      <td>23.250</td>\n",
       "      <td>176.0</td>\n",
       "      <td>31.0</td>\n",
       "      <td>75.0</td>\n",
       "      <td>175.0</td>\n",
       "    </tr>\n",
       "    <tr>\n",
       "      <th>11</th>\n",
       "      <td>0.0</td>\n",
       "      <td>M</td>\n",
       "      <td>76.0</td>\n",
       "      <td>3.0</td>\n",
       "      <td>0.22455</td>\n",
       "      <td>0.00000</td>\n",
       "      <td>2.4318</td>\n",
       "      <td>3.6735</td>\n",
       "      <td>7742.0</td>\n",
       "      <td>1874.0</td>\n",
       "      <td>...</td>\n",
       "      <td>0.0</td>\n",
       "      <td>0.174603</td>\n",
       "      <td>0.333333</td>\n",
       "      <td>7.875</td>\n",
       "      <td>12.000</td>\n",
       "      <td>19.875</td>\n",
       "      <td>332.0</td>\n",
       "      <td>34.0</td>\n",
       "      <td>142.0</td>\n",
       "      <td>155.0</td>\n",
       "    </tr>\n",
       "    <tr>\n",
       "      <th>13</th>\n",
       "      <td>0.0</td>\n",
       "      <td>F</td>\n",
       "      <td>72.0</td>\n",
       "      <td>8.0</td>\n",
       "      <td>0.65110</td>\n",
       "      <td>0.00175</td>\n",
       "      <td>63.5570</td>\n",
       "      <td>8.2975</td>\n",
       "      <td>6024.0</td>\n",
       "      <td>16338.0</td>\n",
       "      <td>...</td>\n",
       "      <td>0.0</td>\n",
       "      <td>0.017544</td>\n",
       "      <td>0.000000</td>\n",
       "      <td>12.000</td>\n",
       "      <td>10.714</td>\n",
       "      <td>22.714</td>\n",
       "      <td>177.0</td>\n",
       "      <td>31.0</td>\n",
       "      <td>73.0</td>\n",
       "      <td>184.0</td>\n",
       "    </tr>\n",
       "    <tr>\n",
       "      <th>15</th>\n",
       "      <td>0.0</td>\n",
       "      <td>F</td>\n",
       "      <td>75.0</td>\n",
       "      <td>12.0</td>\n",
       "      <td>0.09315</td>\n",
       "      <td>1.78310</td>\n",
       "      <td>2.7463</td>\n",
       "      <td>10.2875</td>\n",
       "      <td>8774.0</td>\n",
       "      <td>45218.0</td>\n",
       "      <td>...</td>\n",
       "      <td>0.0</td>\n",
       "      <td>0.174603</td>\n",
       "      <td>0.416667</td>\n",
       "      <td>10.875</td>\n",
       "      <td>10.286</td>\n",
       "      <td>21.161</td>\n",
       "      <td>223.0</td>\n",
       "      <td>15.5</td>\n",
       "      <td>100.0</td>\n",
       "      <td>300.0</td>\n",
       "    </tr>\n",
       "    <tr>\n",
       "      <th>16</th>\n",
       "      <td>0.0</td>\n",
       "      <td>F</td>\n",
       "      <td>76.0</td>\n",
       "      <td>17.0</td>\n",
       "      <td>0.27530</td>\n",
       "      <td>0.00000</td>\n",
       "      <td>1.5492</td>\n",
       "      <td>7.4602</td>\n",
       "      <td>7092.0</td>\n",
       "      <td>2380.0</td>\n",
       "      <td>...</td>\n",
       "      <td>0.0</td>\n",
       "      <td>0.079365</td>\n",
       "      <td>0.200000</td>\n",
       "      <td>14.625</td>\n",
       "      <td>13.286</td>\n",
       "      <td>27.911</td>\n",
       "      <td>357.0</td>\n",
       "      <td>18.5</td>\n",
       "      <td>67.0</td>\n",
       "      <td>93.0</td>\n",
       "    </tr>\n",
       "  </tbody>\n",
       "</table>\n",
       "<p>5 rows × 72 columns</p>\n",
       "</div>"
      ],
      "text/plain": [
       "    Diagnostico Genero  Edad  Escolaridad     IL_2     IL_6    IL_10     TNFa  \\\n",
       "0           0.0      M  78.0         12.0  0.00000  0.24500   5.2900  14.0500   \n",
       "11          0.0      M  76.0          3.0  0.22455  0.00000   2.4318   3.6735   \n",
       "13          0.0      F  72.0          8.0  0.65110  0.00175  63.5570   8.2975   \n",
       "15          0.0      F  75.0         12.0  0.09315  1.78310   2.7463  10.2875   \n",
       "16          0.0      F  76.0         17.0  0.27530  0.00000   1.5492   7.4602   \n",
       "\n",
       "       SAP      CRP  ... T_ADLQ_I_Basic  T_ADLQ_I_Instrumental  \\\n",
       "0   4154.0    384.0  ...            0.0               0.158730   \n",
       "11  7742.0   1874.0  ...            0.0               0.174603   \n",
       "13  6024.0  16338.0  ...            0.0               0.017544   \n",
       "15  8774.0  45218.0  ...            0.0               0.174603   \n",
       "16  7092.0   2380.0  ...            0.0               0.079365   \n",
       "\n",
       "   T_ADLQ_I_Advanced MiniSea_MiniSea_Total_FauxPas  \\\n",
       "0           0.750000                        11.250   \n",
       "11          0.333333                         7.875   \n",
       "13          0.000000                        12.000   \n",
       "15          0.416667                        10.875   \n",
       "16          0.200000                        14.625   \n",
       "\n",
       "   MiniSea_MiniSea_Total_EkmanFaces  MiniSea_minisea_total  RCF_Time  \\\n",
       "0                            12.000                 23.250     176.0   \n",
       "11                           12.000                 19.875     332.0   \n",
       "13                           10.714                 22.714     177.0   \n",
       "15                           10.286                 21.161     223.0   \n",
       "16                           13.286                 27.911     357.0   \n",
       "\n",
       "    RCF_Total_Score  TMT_A_Time  TMT_B_Time  \n",
       "0              31.0        75.0       175.0  \n",
       "11             34.0       142.0       155.0  \n",
       "13             31.0        73.0       184.0  \n",
       "15             15.5       100.0       300.0  \n",
       "16             18.5        67.0        93.0  \n",
       "\n",
       "[5 rows x 72 columns]"
      ]
     },
     "execution_count": 7,
     "metadata": {},
     "output_type": "execute_result"
    }
   ],
   "source": [
    "# creating instance of labelencoder\n",
    "labelencoder = LabelEncoder()\n",
    "# Assigning numerical values and storing in another column\n",
    "#df['Genero'] = labelencoder.fit_transform(df['Genero'])\n",
    "#df['ApoE_genotipo'] = labelencoder.fit_transform(df['ApoE_genotipo'])\n",
    "#df['ApoE2masmenos'] = labelencoder.fit_transform(df['ApoE2masmenos'])\n",
    "#df['ApoE4masmenos'] = labelencoder.fit_transform(df['ApoE4masmenos'])\n",
    "#df['MAPT_genotipo'] = labelencoder.fit_transform(df['MAPT_genotipo'])\n",
    "df.head(5)\n",
    "#MALE = 1, FEMALE = 0"
   ]
  },
  {
   "cell_type": "code",
   "execution_count": 8,
   "metadata": {},
   "outputs": [],
   "source": [
    "#Separación de la data\n",
    "Y  = df['Diagnostico']\n",
    "\n"
   ]
  },
  {
   "cell_type": "code",
   "execution_count": 9,
   "metadata": {},
   "outputs": [],
   "source": [
    "df = df.drop(['Diagnostico'],axis = 1)"
   ]
  },
  {
   "cell_type": "code",
   "execution_count": 10,
   "metadata": {},
   "outputs": [
    {
     "data": {
      "text/html": [
       "<div>\n",
       "<style scoped>\n",
       "    .dataframe tbody tr th:only-of-type {\n",
       "        vertical-align: middle;\n",
       "    }\n",
       "\n",
       "    .dataframe tbody tr th {\n",
       "        vertical-align: top;\n",
       "    }\n",
       "\n",
       "    .dataframe thead th {\n",
       "        text-align: right;\n",
       "    }\n",
       "</style>\n",
       "<table border=\"1\" class=\"dataframe\">\n",
       "  <thead>\n",
       "    <tr style=\"text-align: right;\">\n",
       "      <th></th>\n",
       "      <th>Diagnostico</th>\n",
       "    </tr>\n",
       "  </thead>\n",
       "  <tbody>\n",
       "    <tr>\n",
       "      <th>0</th>\n",
       "      <td>0.0</td>\n",
       "    </tr>\n",
       "    <tr>\n",
       "      <th>11</th>\n",
       "      <td>0.0</td>\n",
       "    </tr>\n",
       "    <tr>\n",
       "      <th>13</th>\n",
       "      <td>0.0</td>\n",
       "    </tr>\n",
       "    <tr>\n",
       "      <th>15</th>\n",
       "      <td>0.0</td>\n",
       "    </tr>\n",
       "    <tr>\n",
       "      <th>16</th>\n",
       "      <td>0.0</td>\n",
       "    </tr>\n",
       "  </tbody>\n",
       "</table>\n",
       "</div>"
      ],
      "text/plain": [
       "    Diagnostico\n",
       "0           0.0\n",
       "11          0.0\n",
       "13          0.0\n",
       "15          0.0\n",
       "16          0.0"
      ]
     },
     "execution_count": 10,
     "metadata": {},
     "output_type": "execute_result"
    }
   ],
   "source": [
    "pd.DataFrame(Y).head()"
   ]
  },
  {
   "cell_type": "code",
   "execution_count": 11,
   "metadata": {},
   "outputs": [],
   "source": [
    "numerical_ix = df.select_dtypes(include=['int64', 'float64']).columns\n",
    "categorical_ix = df.select_dtypes(include=['object', 'bool']).columns"
   ]
  },
  {
   "cell_type": "code",
   "execution_count": 12,
   "metadata": {},
   "outputs": [
    {
     "data": {
      "text/plain": [
       "ColumnTransformer(transformers=[('cat', OrdinalEncoder(),\n",
       "                                 Index(['Genero', 'ApoE_genotipo', 'ApoE2masmenos', 'ApoE4masmenos',\n",
       "       'MAPT_genotipo'],\n",
       "      dtype='object')),\n",
       "                                ('num', MinMaxScaler(feature_range=(-1, 1)),\n",
       "                                 Index(['Edad', 'Escolaridad', 'IL_2', 'IL_6', 'IL_10', 'TNFa', 'SAP', 'CRP',\n",
       "       'APOE_GENOTIPO', 'MAPT_GENOTIPO', 'Pfeffer_Total_Score',\n",
       "       'Digit_Span_Total_Recall', 'Digi...\n",
       "       'SMBT_2_Binding_ensayos_correctos', 'SMBT_2_Binding_porcentaje',\n",
       "       'SMBT_3_Binding_ensayos_correctos', 'SMBT_3_Binding_porcentaje',\n",
       "       'T_ADLQ_I_Total_Decline', 'T_ADLQ_I_Basic', 'T_ADLQ_I_Instrumental',\n",
       "       'T_ADLQ_I_Advanced', 'MiniSea_MiniSea_Total_FauxPas',\n",
       "       'MiniSea_MiniSea_Total_EkmanFaces', 'MiniSea_minisea_total', 'RCF_Time',\n",
       "       'RCF_Total_Score', 'TMT_A_Time', 'TMT_B_Time'],\n",
       "      dtype='object'))])"
      ]
     },
     "execution_count": 12,
     "metadata": {},
     "output_type": "execute_result"
    }
   ],
   "source": [
    "from sklearn.compose import ColumnTransformer\n",
    "from sklearn.preprocessing import OrdinalEncoder\n",
    "from sklearn.preprocessing import MinMaxScaler\n",
    "from sklearn.preprocessing import OneHotEncoder\n",
    "\n",
    "column_trans = ColumnTransformer(\n",
    "     [('cat', OrdinalEncoder(),categorical_ix),\n",
    "      ('num', MinMaxScaler(feature_range=(-1, 1)), numerical_ix)],\n",
    "     remainder='drop')\n",
    "\n",
    "column_trans.fit(df)\n"
   ]
  },
  {
   "cell_type": "markdown",
   "metadata": {},
   "source": [
    "Para volver a probar con diferentes componentes hay que correr el código desde aquí."
   ]
  },
  {
   "cell_type": "code",
   "execution_count": 13,
   "metadata": {},
   "outputs": [
    {
     "data": {
      "text/html": [
       "<div>\n",
       "<style scoped>\n",
       "    .dataframe tbody tr th:only-of-type {\n",
       "        vertical-align: middle;\n",
       "    }\n",
       "\n",
       "    .dataframe tbody tr th {\n",
       "        vertical-align: top;\n",
       "    }\n",
       "\n",
       "    .dataframe thead th {\n",
       "        text-align: right;\n",
       "    }\n",
       "</style>\n",
       "<table border=\"1\" class=\"dataframe\">\n",
       "  <thead>\n",
       "    <tr style=\"text-align: right;\">\n",
       "      <th></th>\n",
       "      <th>0</th>\n",
       "      <th>1</th>\n",
       "      <th>2</th>\n",
       "      <th>3</th>\n",
       "      <th>4</th>\n",
       "      <th>5</th>\n",
       "      <th>6</th>\n",
       "      <th>7</th>\n",
       "      <th>8</th>\n",
       "      <th>9</th>\n",
       "      <th>...</th>\n",
       "      <th>61</th>\n",
       "      <th>62</th>\n",
       "      <th>63</th>\n",
       "      <th>64</th>\n",
       "      <th>65</th>\n",
       "      <th>66</th>\n",
       "      <th>67</th>\n",
       "      <th>68</th>\n",
       "      <th>69</th>\n",
       "      <th>70</th>\n",
       "    </tr>\n",
       "  </thead>\n",
       "  <tbody>\n",
       "    <tr>\n",
       "      <th>0</th>\n",
       "      <td>1.0</td>\n",
       "      <td>2.0</td>\n",
       "      <td>1.0</td>\n",
       "      <td>1.0</td>\n",
       "      <td>1.0</td>\n",
       "      <td>-0.151515</td>\n",
       "      <td>-0.083333</td>\n",
       "      <td>-1.000000</td>\n",
       "      <td>-0.991507</td>\n",
       "      <td>-0.836538</td>\n",
       "      <td>...</td>\n",
       "      <td>-1.0</td>\n",
       "      <td>-0.598997</td>\n",
       "      <td>-1.0</td>\n",
       "      <td>-0.739130</td>\n",
       "      <td>0.696953</td>\n",
       "      <td>0.576150</td>\n",
       "      <td>-0.711968</td>\n",
       "      <td>-0.866040</td>\n",
       "      <td>-0.867704</td>\n",
       "      <td>-0.694286</td>\n",
       "    </tr>\n",
       "    <tr>\n",
       "      <th>1</th>\n",
       "      <td>1.0</td>\n",
       "      <td>2.0</td>\n",
       "      <td>1.0</td>\n",
       "      <td>1.0</td>\n",
       "      <td>1.0</td>\n",
       "      <td>-0.272727</td>\n",
       "      <td>-0.833333</td>\n",
       "      <td>-0.920529</td>\n",
       "      <td>-1.000000</td>\n",
       "      <td>-0.926626</td>\n",
       "      <td>...</td>\n",
       "      <td>-1.0</td>\n",
       "      <td>-0.558897</td>\n",
       "      <td>-1.0</td>\n",
       "      <td>-0.817391</td>\n",
       "      <td>0.696953</td>\n",
       "      <td>0.298006</td>\n",
       "      <td>-0.395538</td>\n",
       "      <td>-0.851939</td>\n",
       "      <td>-0.693904</td>\n",
       "      <td>-0.751429</td>\n",
       "    </tr>\n",
       "    <tr>\n",
       "      <th>2</th>\n",
       "      <td>0.0</td>\n",
       "      <td>2.0</td>\n",
       "      <td>1.0</td>\n",
       "      <td>1.0</td>\n",
       "      <td>0.0</td>\n",
       "      <td>-0.515152</td>\n",
       "      <td>-0.416667</td>\n",
       "      <td>-0.769567</td>\n",
       "      <td>-0.999939</td>\n",
       "      <td>1.000000</td>\n",
       "      <td>...</td>\n",
       "      <td>-1.0</td>\n",
       "      <td>-0.955679</td>\n",
       "      <td>-1.0</td>\n",
       "      <td>-0.721739</td>\n",
       "      <td>0.515096</td>\n",
       "      <td>0.531976</td>\n",
       "      <td>-0.709939</td>\n",
       "      <td>-0.866040</td>\n",
       "      <td>-0.872892</td>\n",
       "      <td>-0.668571</td>\n",
       "    </tr>\n",
       "    <tr>\n",
       "      <th>3</th>\n",
       "      <td>0.0</td>\n",
       "      <td>0.0</td>\n",
       "      <td>0.0</td>\n",
       "      <td>1.0</td>\n",
       "      <td>0.0</td>\n",
       "      <td>-0.333333</td>\n",
       "      <td>-0.083333</td>\n",
       "      <td>-0.967033</td>\n",
       "      <td>-0.938189</td>\n",
       "      <td>-0.916713</td>\n",
       "      <td>...</td>\n",
       "      <td>-1.0</td>\n",
       "      <td>-0.558897</td>\n",
       "      <td>-1.0</td>\n",
       "      <td>-0.747826</td>\n",
       "      <td>0.454571</td>\n",
       "      <td>0.403989</td>\n",
       "      <td>-0.616633</td>\n",
       "      <td>-0.938895</td>\n",
       "      <td>-0.802853</td>\n",
       "      <td>-0.337143</td>\n",
       "    </tr>\n",
       "    <tr>\n",
       "      <th>4</th>\n",
       "      <td>0.0</td>\n",
       "      <td>2.0</td>\n",
       "      <td>1.0</td>\n",
       "      <td>1.0</td>\n",
       "      <td>0.0</td>\n",
       "      <td>-0.272727</td>\n",
       "      <td>0.333333</td>\n",
       "      <td>-0.902568</td>\n",
       "      <td>-1.000000</td>\n",
       "      <td>-0.954445</td>\n",
       "      <td>...</td>\n",
       "      <td>-1.0</td>\n",
       "      <td>-0.799499</td>\n",
       "      <td>-1.0</td>\n",
       "      <td>-0.660870</td>\n",
       "      <td>0.878809</td>\n",
       "      <td>0.960277</td>\n",
       "      <td>-0.344828</td>\n",
       "      <td>-0.924794</td>\n",
       "      <td>-0.888457</td>\n",
       "      <td>-0.928571</td>\n",
       "    </tr>\n",
       "  </tbody>\n",
       "</table>\n",
       "<p>5 rows × 71 columns</p>\n",
       "</div>"
      ],
      "text/plain": [
       "    0    1    2    3    4         5         6         7         8         9   \\\n",
       "0  1.0  2.0  1.0  1.0  1.0 -0.151515 -0.083333 -1.000000 -0.991507 -0.836538   \n",
       "1  1.0  2.0  1.0  1.0  1.0 -0.272727 -0.833333 -0.920529 -1.000000 -0.926626   \n",
       "2  0.0  2.0  1.0  1.0  0.0 -0.515152 -0.416667 -0.769567 -0.999939  1.000000   \n",
       "3  0.0  0.0  0.0  1.0  0.0 -0.333333 -0.083333 -0.967033 -0.938189 -0.916713   \n",
       "4  0.0  2.0  1.0  1.0  0.0 -0.272727  0.333333 -0.902568 -1.000000 -0.954445   \n",
       "\n",
       "   ...   61        62   63        64        65        66        67        68  \\\n",
       "0  ... -1.0 -0.598997 -1.0 -0.739130  0.696953  0.576150 -0.711968 -0.866040   \n",
       "1  ... -1.0 -0.558897 -1.0 -0.817391  0.696953  0.298006 -0.395538 -0.851939   \n",
       "2  ... -1.0 -0.955679 -1.0 -0.721739  0.515096  0.531976 -0.709939 -0.866040   \n",
       "3  ... -1.0 -0.558897 -1.0 -0.747826  0.454571  0.403989 -0.616633 -0.938895   \n",
       "4  ... -1.0 -0.799499 -1.0 -0.660870  0.878809  0.960277 -0.344828 -0.924794   \n",
       "\n",
       "         69        70  \n",
       "0 -0.867704 -0.694286  \n",
       "1 -0.693904 -0.751429  \n",
       "2 -0.872892 -0.668571  \n",
       "3 -0.802853 -0.337143  \n",
       "4 -0.888457 -0.928571  \n",
       "\n",
       "[5 rows x 71 columns]"
      ]
     },
     "execution_count": 13,
     "metadata": {},
     "output_type": "execute_result"
    }
   ],
   "source": [
    "X = column_trans.transform(df)\n",
    "\n",
    "pd.DataFrame(X).head()"
   ]
  },
  {
   "cell_type": "code",
   "execution_count": 14,
   "metadata": {},
   "outputs": [
    {
     "name": "stdout",
     "output_type": "stream",
     "text": [
      "Class=0, n=56 (25.000%)\n",
      "Class=3, n=56 (25.000%)\n",
      "Class=1, n=56 (25.000%)\n",
      "Class=2, n=56 (25.000%)\n"
     ]
    },
    {
     "data": {
      "image/png": "[encoded data removed]",
      "text/plain": [
       "<Figure size 432x288 with 1 Axes>"
      ]
     },
     "metadata": {
      "needs_background": "light"
     },
     "output_type": "display_data"
    }
   ],
   "source": [
    "from imblearn.over_sampling import SMOTE\n",
    "from collections import Counter\n",
    "from matplotlib import pyplot\n",
    "# transform the dataset\n",
    "strategy = {0:56, 1:56, 2:56, 3:56}\n",
    "oversample = SMOTE(sampling_strategy=strategy)\n",
    "X, Y = oversample.fit_resample(X, Y)\n",
    "# summarize distribution\n",
    "counter = Counter(Y)\n",
    "for k,v in counter.items():\n",
    "\tper = v / len(Y) * 100\n",
    "\tprint('Class=%d, n=%d (%.3f%%)' % (k, v, per))\n",
    "# plot the distribution\n",
    "pyplot.bar(counter.keys(), counter.values())\n",
    "pyplot.show()"
   ]
  },
  {
   "cell_type": "code",
   "execution_count": null,
   "metadata": {},
   "outputs": [],
   "source": []
  },
  {
   "cell_type": "code",
   "execution_count": 15,
   "metadata": {},
   "outputs": [],
   "source": [
    "#Para probar con diferentes componentes hay que volver a dividir los datasets.\n",
    "X_train, X_test, y_train, y_test = train_test_split(X, Y, test_size=0.3, random_state=42)"
   ]
  },
  {
   "cell_type": "code",
   "execution_count": 16,
   "metadata": {},
   "outputs": [],
   "source": [
    "# performing preprocessing part\n",
    "from sklearn.preprocessing import StandardScaler\n",
    "sc = StandardScaler()\n",
    " \n",
    "X_train = sc.fit_transform(X_train)\n",
    "X_test = sc.transform(X_test)"
   ]
  },
  {
   "cell_type": "code",
   "execution_count": 17,
   "metadata": {},
   "outputs": [],
   "source": [
    "# Applying PCA function on training\n",
    "# and testing set of X component\n",
    "from sklearn.decomposition import PCA\n",
    " \n",
    "pca = PCA(n_components = 35)\n",
    " \n",
    "X_train = pca.fit_transform(X_train)\n",
    "X_test = pca.transform(X_test)\n",
    "X = pca.transform(X)\n",
    "explained_variance = pca.explained_variance_ratio_"
   ]
  },
  {
   "cell_type": "code",
   "execution_count": null,
   "metadata": {},
   "outputs": [],
   "source": []
  },
  {
   "cell_type": "code",
   "execution_count": 18,
   "metadata": {},
   "outputs": [],
   "source": [
    "yhot = np_utils.to_categorical(Y)\n",
    "yhot_train = np_utils.to_categorical(y_train)\n",
    "yhot_test = np_utils.to_categorical(y_test)"
   ]
  },
  {
   "cell_type": "code",
   "execution_count": null,
   "metadata": {},
   "outputs": [],
   "source": []
  },
  {
   "cell_type": "code",
   "execution_count": 19,
   "metadata": {},
   "outputs": [],
   "source": [
    "# define baseline model\n",
    "def baseline_model():\n",
    "\t# create model\n",
    "\tmodel = Sequential()\n",
    "\t# Rectified Linear Unit Activation Function\n",
    "\tmodel.add(Dense(70, input_dim=35, activation='relu'))\n",
    "\tmodel.add(Dense(70, activation = 'relu'))\n",
    "\t# Softmax for multi-class classification\n",
    "\tmodel.add(Dense(4, activation='softmax'))\n",
    "\t# Compile model\n",
    "\tmodel.compile(loss='categorical_crossentropy', optimizer='adam', metrics=['accuracy'])\n",
    "\treturn model"
   ]
  },
  {
   "cell_type": "code",
   "execution_count": 20,
   "metadata": {},
   "outputs": [],
   "source": [
    "# model = baseline_model()\n",
    "cmodel = KerasClassifier(build_fn=baseline_model, epochs=50, batch_size=5, verbose=0)"
   ]
  },
  {
   "cell_type": "code",
   "execution_count": 21,
   "metadata": {},
   "outputs": [],
   "source": [
    "kfold = KFold(n_splits=10, shuffle=True)"
   ]
  },
  {
   "cell_type": "code",
   "execution_count": 22,
   "metadata": {},
   "outputs": [
    {
     "name": "stdout",
     "output_type": "stream",
     "text": [
      "Baseline: 86.60% (5.73%)\n"
     ]
    }
   ],
   "source": [
    "result = cross_val_score(cmodel, X, yhot, cv=kfold)\n",
    "print(\"Baseline: %.2f%% (%.2f%%)\" % (result.mean()*100, result.std()*100))"
   ]
  },
  {
   "cell_type": "code",
   "execution_count": 23,
   "metadata": {},
   "outputs": [],
   "source": [
    "model = baseline_model()\n",
    "model.compile(loss='categorical_crossentropy', optimizer='adam', metrics=['accuracy'])\n",
    "\n",
    "history = model.fit(X_train, yhot_train, validation_split=0.3,\n",
    "                    epochs=50, batch_size=5, verbose=0)"
   ]
  },
  {
   "cell_type": "code",
   "execution_count": 24,
   "metadata": {},
   "outputs": [
    {
     "name": "stdout",
     "output_type": "stream",
     "text": [
      "dict_keys(['loss', 'accuracy', 'val_loss', 'val_accuracy'])\n"
     ]
    },
    {
     "data": {
      "image/png": "[encoded data removed]",
      "text/plain": [
       "<Figure size 432x288 with 1 Axes>"
      ]
     },
     "metadata": {
      "needs_background": "light"
     },
     "output_type": "display_data"
    },
    {
     "data": {
      "image/png": "[encoded data removed]",
      "text/plain": [
       "<Figure size 432x288 with 1 Axes>"
      ]
     },
     "metadata": {
      "needs_background": "light"
     },
     "output_type": "display_data"
    }
   ],
   "source": [
    "import matplotlib.pyplot as plt\n",
    "# list all data in history\n",
    "print(history.history.keys())\n",
    "# summarize history for accuracy\n",
    "plt.plot(history.history['accuracy'])\n",
    "plt.plot(history.history['val_accuracy'])\n",
    "plt.title('model accuracy')\n",
    "plt.ylabel('accuracy')\n",
    "plt.xlabel('epoch')\n",
    "plt.legend(['train', 'test'], loc='upper left')\n",
    "plt.show()\n",
    "# summarize history for loss\n",
    "plt.plot(history.history['loss'])\n",
    "plt.plot(history.history['val_loss'])\n",
    "plt.title('model loss')\n",
    "plt.ylabel('loss')\n",
    "plt.xlabel('epoch')\n",
    "plt.legend(['train', 'test'], loc='upper left')\n",
    "plt.show()"
   ]
  },
  {
   "cell_type": "code",
   "execution_count": 25,
   "metadata": {},
   "outputs": [
    {
     "name": "stdout",
     "output_type": "stream",
     "text": [
      "3/3 [==============================] - 0s 2ms/step - loss: 0.9011 - accuracy: 0.8088\n",
      "Accuracy from evaluate: 80.88\n"
     ]
    }
   ],
   "source": [
    "# evaluate the keras model\n",
    "_, accuracy = model.evaluate(X_test, yhot_test)\n",
    "print('Accuracy from evaluate: %.2f' % (accuracy*100))"
   ]
  },
  {
   "cell_type": "code",
   "execution_count": 26,
   "metadata": {},
   "outputs": [
    {
     "name": "stdout",
     "output_type": "stream",
     "text": [
      "Prediction Accuracy: 80.882353\n"
     ]
    }
   ],
   "source": [
    "predict_x = model.predict(X_test)\n",
    "pred = np.argmax(predict_x, axis=1)\n",
    "print(f'Prediction Accuracy: {(pred == y_test).mean() * 100:f}')"
   ]
  },
  {
   "cell_type": "code",
   "execution_count": 27,
   "metadata": {},
   "outputs": [
    {
     "name": "stdout",
     "output_type": "stream",
     "text": [
      "              precision    recall  f1-score   support\n",
      "\n",
      "         0.0       0.73      0.94      0.82        17\n",
      "         1.0       0.75      0.56      0.64        16\n",
      "         2.0       0.79      0.75      0.77        20\n",
      "         3.0       1.00      1.00      1.00        15\n",
      "\n",
      "    accuracy                           0.81        68\n",
      "   macro avg       0.82      0.81      0.81        68\n",
      "weighted avg       0.81      0.81      0.80        68\n",
      "\n"
     ]
    }
   ],
   "source": [
    "from sklearn.metrics import plot_confusion_matrix\n",
    "from sklearn.metrics import classification_report\n",
    "print(classification_report(y_test,pred))"
   ]
  }
 ],
 "metadata": {
  "interpreter": {
   "hash": "dcdb945b898c3d0c280683f69e34eb0246c5444f9209e8db17044cb6726079d0"
  },
  "kernelspec": {
   "display_name": "Python 3.8.5 64-bit (conda)",
   "name": "python3"
  },
  "language_info": {
   "codemirror_mode": {
    "name": "ipython",
    "version": 3
   },
   "file_extension": ".py",
   "mimetype": "text/x-python",
   "name": "python",
   "nbconvert_exporter": "python",
   "pygments_lexer": "ipython3",
   "version": "3.8.5"
  }
 },
 "nbformat": 4,
 "nbformat_minor": 4
}
